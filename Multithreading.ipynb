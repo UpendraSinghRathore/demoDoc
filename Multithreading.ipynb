{
 "cells": [
  {
   "cell_type": "markdown",
   "metadata": {},
   "source": [
    "# Multithreading\n",
    "Doing the task concurrently \n"
   ]
  },
  {
   "cell_type": "code",
   "execution_count": 1,
   "metadata": {},
   "outputs": [
    {
     "name": "stdout",
     "output_type": "stream",
     "text": [
      "sleep for 1 second\n",
      "done sleeping\n",
      "Time taken for complete the task is 1.01 second(s)\n"
     ]
    }
   ],
   "source": [
    "import time\n",
    "start = time.perf_counter()\n",
    "\n",
    "def anyTask():\n",
    "    print(\"sleep for 1 second\")\n",
    "    time.sleep(1)\n",
    "    print(\"done sleeping\")\n",
    "    \n",
    "anyTask()\n",
    "\n",
    "finish = time.perf_counter()\n",
    "takenTime = round((finish-start),2)\n",
    "print(f\"Time taken for complete the task is {takenTime} second(s)\")"
   ]
  },
  {
   "cell_type": "code",
   "execution_count": 2,
   "metadata": {},
   "outputs": [
    {
     "name": "stdout",
     "output_type": "stream",
     "text": [
      "sleep for 1 second\n",
      "done sleeping\n",
      "sleep for 1 second\n",
      "done sleeping\n",
      "Time taken for complete the task is 2.02 second(s)\n"
     ]
    }
   ],
   "source": [
    "start = time.perf_counter()\n",
    "\n",
    "def anyTask():\n",
    "    print(\"sleep for 1 second\")\n",
    "    time.sleep(1)\n",
    "    print(\"done sleeping\")\n",
    "    \n",
    "anyTask()\n",
    "anyTask()\n",
    "\n",
    "finish = time.perf_counter()\n",
    "takenTime = round((finish-start),2)\n",
    "print(f\"Time taken for complete the task is {takenTime} second(s)\")"
   ]
  },
  {
   "cell_type": "code",
   "execution_count": 8,
   "metadata": {},
   "outputs": [
    {
     "name": "stdout",
     "output_type": "stream",
     "text": [
      "sleep for 1 secondsleep for 1 second\n",
      "Time taken for complete the task is 0.02 second(s)\n",
      "\n",
      "done sleepingdone sleeping\n",
      "\n"
     ]
    }
   ],
   "source": [
    "import threading\n",
    "start = time.perf_counter()\n",
    "\n",
    "def anyTask():\n",
    "    print(\"sleep for 1 second\")\n",
    "    time.sleep(1)\n",
    "    print(\"done sleeping\")\n",
    "    \n",
    "# making the threads\n",
    "t1 = threading.Thread(target = anyTask)\n",
    "t2 = threading.Thread(target = anyTask)\n",
    "\n",
    "# starting the thread\n",
    "t1.start()\n",
    "t2.start()\n",
    "\n",
    "finish = time.perf_counter()\n",
    "takenTime = round((finish-start),2)\n",
    "print(f\"Time taken for complete the task is {takenTime} second(s)\")"
   ]
  },
  {
   "cell_type": "code",
   "execution_count": 9,
   "metadata": {},
   "outputs": [
    {
     "name": "stdout",
     "output_type": "stream",
     "text": [
      "sleep for 1 second\n",
      "sleep for 1 second\n",
      "done sleeping\n",
      "done sleeping\n",
      "Time taken for complete the task is 1.03 second(s)\n"
     ]
    }
   ],
   "source": [
    "# in previous example our finish line code ran when thread were in sleep to prevent this we will use join method\n",
    "\n",
    "start = time.perf_counter()\n",
    "\n",
    "def anyTask():\n",
    "    print(\"sleep for 1 second\")\n",
    "    time.sleep(1)\n",
    "    print(\"done sleeping\")\n",
    "    \n",
    "# making the threads\n",
    "t1 = threading.Thread(target = anyTask)\n",
    "t2 = threading.Thread(target = anyTask)\n",
    "\n",
    "# starting the thread\n",
    "t1.start()\n",
    "t2.start()\n",
    "\n",
    "# to complete the threads before the rest of the code\n",
    "t1.join()\n",
    "t2.join()\n",
    "\n",
    "finish = time.perf_counter()\n",
    "takenTime = round((finish-start),2)\n",
    "print(f\"Time taken for complete the task is {takenTime} second(s)\")"
   ]
  },
  {
   "cell_type": "code",
   "execution_count": 11,
   "metadata": {},
   "outputs": [
    {
     "name": "stdout",
     "output_type": "stream",
     "text": [
      "sleep for 1 second \n",
      "sleep for 1 second \n",
      "sleep for 1 second \n",
      "sleep for 1 second \n",
      "sleep for 1 second \n",
      "sleep for 1 second \n",
      "sleep for 1 second sleep for 1 second \n",
      "\n",
      "sleep for 1 second sleep for 1 second \n",
      "\n",
      "done sleeping done sleeping done sleeping \n",
      "\n",
      "\n",
      "done sleeping done sleeping \n",
      "\n",
      "done sleeping \n",
      "done sleeping done sleeping \n",
      "\n",
      "done sleeping done sleeping \n",
      "\n",
      "Time taken for complete the task is 1.09 second(s)\n"
     ]
    }
   ],
   "source": [
    "# more threads by looping\n",
    "\n",
    "start = time.perf_counter()\n",
    "\n",
    "def anyTask():\n",
    "    print(\"sleep for 1 second \")\n",
    "    time.sleep(1)\n",
    "    print(\"done sleeping \")\n",
    "    \n",
    "threads = []\n",
    "\n",
    "# making the threads by loop\n",
    "for _ in range(10):\n",
    "    t = threading.Thread(target = anyTask)\n",
    "    t.start()\n",
    "    threads.append(t)\n",
    "\n",
    "for thread in threads:\n",
    "    thread.join()\n",
    "\n",
    "finish = time.perf_counter()\n",
    "takenTime = round((finish-start),2)\n",
    "print(f\"Time taken for complete the task is {takenTime} second(s)\")"
   ]
  },
  {
   "cell_type": "code",
   "execution_count": 15,
   "metadata": {},
   "outputs": [
    {
     "name": "stdout",
     "output_type": "stream",
     "text": [
      "sleep for 5 second(s) sleep for 5 second(s) \n",
      "\n",
      "sleep for 5 second(s) \n",
      "sleep for 5 second(s) \n",
      "sleep for 5 second(s) \n",
      "sleep for 5 second(s) \n",
      "sleep for 5 second(s) \n",
      "sleep for 5 second(s) \n",
      "sleep for 5 second(s) sleep for 5 second(s) \n",
      "\n",
      "done sleeping done sleeping done sleeping \n",
      "\n",
      "\n",
      "done sleeping done sleeping \n",
      "\n",
      "done sleeping done sleeping \n",
      "\n",
      "done sleeping done sleeping done sleeping \n",
      "\n",
      "\n",
      "Time taken for complete the task is 5.13 second(s)\n"
     ]
    }
   ],
   "source": [
    "# passing the argument\n",
    "\n",
    "start = time.perf_counter()\n",
    "\n",
    "def anyTask(seconds):\n",
    "    print(f\"sleep for {seconds} second(s) \")\n",
    "    time.sleep(seconds)\n",
    "    print(\"done sleeping \")\n",
    "    \n",
    "threads = []\n",
    "\n",
    "# making the threads by loop\n",
    "for _ in range(10):\n",
    "    t = threading.Thread(target = anyTask, args=[5])\n",
    "    t.start()\n",
    "    threads.append(t)\n",
    "\n",
    "for thread in threads:\n",
    "    thread.join()\n",
    "\n",
    "finish = time.perf_counter()\n",
    "takenTime = round((finish-start),2)\n",
    "print(f\"Time taken for complete the task is {takenTime} second(s)\")"
   ]
  },
  {
   "cell_type": "code",
   "execution_count": 19,
   "metadata": {},
   "outputs": [
    {
     "name": "stdout",
     "output_type": "stream",
     "text": [
      "sleep for 1 seccond(s)\n",
      "done sleeping...\n",
      "time taken for complete the task is 1.02 seconds\n"
     ]
    }
   ],
   "source": [
    "# New methods using concurrent.futures \n",
    "import concurrent.futures\n",
    "import time\n",
    "\n",
    "start = time.perf_counter()\n",
    "\n",
    "def anyThing(seconds):\n",
    "    print(f\"sleep for {seconds} seccond(s)\")\n",
    "    time.sleep(seconds)\n",
    "    return 'done sleeping...'\n",
    "\n",
    "with concurrent.futures.ThreadPoolExecutor() as executor:\n",
    "    f1 = executor.submit(anyThing , 1)\n",
    "    print(f1.result())\n",
    "\n",
    "finish = time.perf_counter()\n",
    "timeTaken = round((finish-start), 2)\n",
    "\n",
    "print(f\"time taken for complete the task is {timeTaken} seconds\")"
   ]
  },
  {
   "cell_type": "code",
   "execution_count": 18,
   "metadata": {},
   "outputs": [
    {
     "name": "stdout",
     "output_type": "stream",
     "text": [
      "sleep for 1 seccond(s)\n",
      "sleep for 1 seccond(s)\n",
      "done sleeping...\n",
      "done sleeping...\n",
      "time taken for complete the task is 1.02 seconds\n"
     ]
    }
   ],
   "source": [
    "import concurrent.futures\n",
    "import time\n",
    "\n",
    "start = time.perf_counter()\n",
    "\n",
    "def anyThing(seconds):\n",
    "    print(f\"sleep for {seconds} seccond(s)\")\n",
    "    time.sleep(seconds)\n",
    "    return 'done sleeping...'\n",
    "\n",
    "with concurrent.futures.ThreadPoolExecutor() as executor:\n",
    "    f1 = executor.submit(anyThing , 1)\n",
    "    f2 = executor.submit(anyThing , 1)\n",
    "    print(f1.result())\n",
    "    print(f2.result())\n",
    "\n",
    "finish = time.perf_counter()\n",
    "timeTaken = round((finish-start), 2)\n",
    "\n",
    "print(f\"time taken for complete the task is {timeTaken} seconds\")"
   ]
  },
  {
   "cell_type": "code",
   "execution_count": 23,
   "metadata": {},
   "outputs": [
    {
     "name": "stdout",
     "output_type": "stream",
     "text": [
      "sleep for 1 seccond(s)\n",
      "sleep for 1 seccond(s)\n",
      "sleep for 1 seccond(s)\n",
      "sleep for 1 seccond(s)\n",
      "sleep for 1 seccond(s)\n",
      "sleep for 1 seccond(s)\n",
      "sleep for 1 seccond(s)\n",
      "sleep for 1 seccond(s)\n",
      "sleep for 1 seccond(s)\n",
      "sleep for 1 seccond(s)\n",
      "done sleeping...\n",
      "done sleeping...\n",
      "done sleeping...\n",
      "done sleeping...\n",
      "done sleeping...\n",
      "done sleeping...\n",
      "done sleeping...\n",
      "done sleeping...\n",
      "done sleeping...\n",
      "done sleeping...\n",
      "time taken for complete the task is 1.1 seconds\n"
     ]
    }
   ],
   "source": [
    "# using loop\n",
    "start = time.perf_counter()\n",
    "\n",
    "def anyThing(seconds):\n",
    "    print(f\"sleep for {seconds} seccond(s)\")\n",
    "    time.sleep(seconds)\n",
    "    return 'done sleeping...'\n",
    "\n",
    "with concurrent.futures.ThreadPoolExecutor() as executor:\n",
    "    results = [executor.submit(anyThing , 1) for _ in range(10)]\n",
    "    \n",
    "    for f in concurrent.futures.as_completed(results):\n",
    "        print(f.result())\n",
    "\n",
    "finish = time.perf_counter()\n",
    "timeTaken = round((finish-start), 2)\n",
    "\n",
    "print(f\"time taken for complete the task is {timeTaken} seconds\")"
   ]
  },
  {
   "cell_type": "code",
   "execution_count": 26,
   "metadata": {},
   "outputs": [
    {
     "name": "stdout",
     "output_type": "stream",
     "text": [
      "sleep for 9 second(s)\n",
      "sleep for 8 second(s)\n",
      "sleep for 7 second(s)\n",
      "sleep for 6 second(s)\n",
      "sleep for 5 second(s)\n",
      "sleep for 4 second(s)\n",
      "sleep for 3 second(s)\n",
      "sleep for 2 second(s)\n",
      "sleep for 1 second(s)\n",
      "done sleeping for 1 second(s)\n",
      "done sleeping for 2 second(s)\n",
      "done sleeping for 3 second(s)\n",
      "done sleeping for 4 second(s)\n",
      "done sleeping for 5 second(s)\n",
      "done sleeping for 6 second(s)\n",
      "done sleeping for 7 second(s)\n",
      "done sleeping for 8 second(s)\n",
      "done sleeping for 9 second(s)\n",
      "time taken for complete the task is 9.03 seconds\n"
     ]
    }
   ],
   "source": [
    "# changing time\n",
    "\n",
    "start = time.perf_counter()\n",
    "\n",
    "def anyThing(seconds):\n",
    "    print(f\"sleep for {seconds} second(s)\")\n",
    "    time.sleep(seconds)\n",
    "    return f'done sleeping for {seconds} second(s)'\n",
    "\n",
    "with concurrent.futures.ThreadPoolExecutor() as executor:\n",
    "    secds = [9, 8, 7, 6, 5, 4, 3, 2, 1]\n",
    "    results = [executor.submit(anyThing , sec) for sec in secds]\n",
    "    \n",
    "    for f in concurrent.futures.as_completed(results):\n",
    "        print(f.result())\n",
    "\n",
    "finish = time.perf_counter()\n",
    "timeTaken = round((finish-start), 2)\n",
    "\n",
    "print(f\"time taken for complete the task is {timeTaken} seconds\")"
   ]
  },
  {
   "cell_type": "code",
   "execution_count": 28,
   "metadata": {},
   "outputs": [
    {
     "name": "stdout",
     "output_type": "stream",
     "text": [
      "sleep for 9 second(s)\n",
      "sleep for 8 second(s)\n",
      "sleep for 7 second(s)\n",
      "sleep for 6 second(s)\n",
      "sleep for 5 second(s)sleep for 4 second(s)\n",
      "\n",
      "sleep for 3 second(s)\n",
      "sleep for 2 second(s)\n",
      "sleep for 1 second(s)\n",
      "done sleeping for 9 second(s)\n",
      "done sleeping for 8 second(s)\n",
      "done sleeping for 7 second(s)\n",
      "done sleeping for 6 second(s)\n",
      "done sleeping for 5 second(s)\n",
      "done sleeping for 4 second(s)\n",
      "done sleeping for 3 second(s)\n",
      "done sleeping for 2 second(s)\n",
      "done sleeping for 1 second(s)\n",
      "time taken for complete the task is 9.03 seconds\n"
     ]
    }
   ],
   "source": [
    "# using map mathod\n",
    "# in this method the results will be given in way they started. First thread will give first result\n",
    "\n",
    "start = time.perf_counter()\n",
    "\n",
    "def anyThing(seconds):\n",
    "    print(f\"sleep for {seconds} second(s)\")\n",
    "    time.sleep(seconds)\n",
    "    return f'done sleeping for {seconds} second(s)'\n",
    "\n",
    "with concurrent.futures.ThreadPoolExecutor() as executor:\n",
    "    secds = [9, 8, 7, 6, 5, 4, 3, 2, 1]\n",
    "    results = executor.map(anyThing, secds)\n",
    "    \n",
    "    for result in results:\n",
    "        print(result)\n",
    "\n",
    "finish = time.perf_counter()\n",
    "timeTaken = round((finish-start), 2)\n",
    "\n",
    "print(f\"time taken for complete the task is {timeTaken} seconds\")"
   ]
  },
  {
   "cell_type": "code",
   "execution_count": 29,
   "metadata": {},
   "outputs": [
    {
     "name": "stdout",
     "output_type": "stream",
     "text": [
      "sleep for 1 second(s)sleep for 2 second(s)\n",
      "\n",
      "sleep for 3 second(s)\n",
      "sleep for 4 second(s)\n",
      "sleep for 5 second(s)sleep for 6 second(s)\n",
      "\n",
      "done sleeping for 1 second(s)\n",
      "done sleeping for 2 second(s)\n",
      "done sleeping for 3 second(s)\n",
      "done sleeping for 4 second(s)\n",
      "done sleeping for 5 second(s)\n",
      "done sleeping for 6 second(s)\n",
      "time taken for complete the task is 6.13 seconds\n"
     ]
    }
   ],
   "source": [
    "start = time.perf_counter()\n",
    "\n",
    "def anyThing(seconds):\n",
    "    print(f\"sleep for {seconds} second(s)\")\n",
    "    time.sleep(seconds)\n",
    "    return f'done sleeping for {seconds} second(s)'\n",
    "\n",
    "with concurrent.futures.ThreadPoolExecutor() as executor:\n",
    "    secds = [1,2,3,4,5,6]\n",
    "    results = executor.map(anyThing, secds)\n",
    "    \n",
    "    for result in results:\n",
    "        print(result)\n",
    "\n",
    "finish = time.perf_counter()\n",
    "timeTaken = round((finish-start), 2)\n",
    "\n",
    "print(f\"time taken for complete the task is {timeTaken} seconds\")"
   ]
  },
  {
   "cell_type": "code",
   "execution_count": 3,
   "metadata": {},
   "outputs": [
    {
     "name": "stdout",
     "output_type": "stream",
     "text": [
      "photo-1516117172878-fd2c41f4a759.jpg was downloaded...\n",
      "photo-1532009324734-20a7a5813719.jpg was downloaded...\n",
      "photo-1524429656589-6633a470097c.jpg was downloaded...\n",
      "photo-1530224264768-7ff8c1789d79.jpg was downloaded...\n",
      "photo-1564135624576-c5c88640f235.jpg was downloaded...\n",
      "photo-1541698444083-023c97d3f4b6.jpg was downloaded...\n",
      "photo-1522364723953-452d3431c267.jpg was downloaded...\n",
      "photo-1513938709626-033611b8cc03.jpg was downloaded...\n",
      "photo-1507143550189-fed454f93097.jpg was downloaded...\n",
      "photo-1493976040374-85c8e12f0c0e.jpg was downloaded...\n",
      "photo-1504198453319-5ce911bafcde.jpg was downloaded...\n",
      "photo-1530122037265-a5f1f91d3b99.jpg was downloaded...\n",
      "photo-1516972810927-80185027ca84.jpg was downloaded...\n",
      "photo-1550439062-609e1531270e.jpg was downloaded...\n",
      "photo-1549692520-acc6669e2f0c.jpg was downloaded...\n",
      "time taken for downloading the image is 42.05830909999986\n"
     ]
    }
   ],
   "source": [
    "import requests\n",
    "import time\n",
    "import concurrent.futures\n",
    "\n",
    "img_urls = [\n",
    "    'https://images.unsplash.com/photo-1516117172878-fd2c41f4a759',\n",
    "    'https://images.unsplash.com/photo-1532009324734-20a7a5813719',\n",
    "    'https://images.unsplash.com/photo-1524429656589-6633a470097c',\n",
    "    'https://images.unsplash.com/photo-1530224264768-7ff8c1789d79',\n",
    "    'https://images.unsplash.com/photo-1564135624576-c5c88640f235',\n",
    "    'https://images.unsplash.com/photo-1541698444083-023c97d3f4b6',\n",
    "    'https://images.unsplash.com/photo-1522364723953-452d3431c267',\n",
    "    'https://images.unsplash.com/photo-1513938709626-033611b8cc03',\n",
    "    'https://images.unsplash.com/photo-1507143550189-fed454f93097',\n",
    "    'https://images.unsplash.com/photo-1493976040374-85c8e12f0c0e',\n",
    "    'https://images.unsplash.com/photo-1504198453319-5ce911bafcde',\n",
    "    'https://images.unsplash.com/photo-1530122037265-a5f1f91d3b99',\n",
    "    'https://images.unsplash.com/photo-1516972810927-80185027ca84',\n",
    "    'https://images.unsplash.com/photo-1550439062-609e1531270e',\n",
    "    'https://images.unsplash.com/photo-1549692520-acc6669e2f0c'\n",
    "]\n",
    "\n",
    "t1 = time.perf_counter()\n",
    "\n",
    "\n",
    "for img_url in img_urls:\n",
    "    img_bytes = requests.get(img_url).content\n",
    "    img_name = img_url.split('/')[3]\n",
    "    img_name = f'{img_name}.jpg'\n",
    "    with open(img_name, 'wb') as img_file:\n",
    "        img_file.write(img_bytes)\n",
    "        print(f'{img_name} was downloaded...')\n",
    "\n",
    "t2 = time.perf_counter()\n",
    "\n",
    "print(f\"time taken for downloading the image is {t2-t1}\")"
   ]
  },
  {
   "cell_type": "code",
   "execution_count": 8,
   "metadata": {},
   "outputs": [
    {
     "name": "stdout",
     "output_type": "stream",
     "text": [
      "photo-1516117172878-fd2c41f4a759.jpg\n",
      "photo-1516117172878-fd2c41f4a759.jpg was downloaded...\n",
      "photo-1532009324734-20a7a5813719.jpg\n",
      "photo-1532009324734-20a7a5813719.jpg was downloaded...\n",
      "photo-1524429656589-6633a470097c.jpg\n",
      "photo-1524429656589-6633a470097c.jpg was downloaded...\n",
      "photo-1530224264768-7ff8c1789d79.jpg\n",
      "photo-1530224264768-7ff8c1789d79.jpg was downloaded...\n",
      "photo-1564135624576-c5c88640f235.jpg\n",
      "photo-1564135624576-c5c88640f235.jpg was downloaded...\n",
      "photo-1541698444083-023c97d3f4b6.jpg\n",
      "photo-1541698444083-023c97d3f4b6.jpg was downloaded...\n",
      "photo-1522364723953-452d3431c267.jpg\n",
      "photo-1522364723953-452d3431c267.jpg was downloaded...\n",
      "photo-1513938709626-033611b8cc03.jpg\n",
      "photo-1513938709626-033611b8cc03.jpg was downloaded...\n",
      "photo-1507143550189-fed454f93097.jpg\n",
      "photo-1507143550189-fed454f93097.jpg was downloaded...\n",
      "photo-1493976040374-85c8e12f0c0e.jpg\n",
      "photo-1493976040374-85c8e12f0c0e.jpg was downloaded...\n",
      "photo-1504198453319-5ce911bafcde.jpg\n",
      "photo-1504198453319-5ce911bafcde.jpg was downloaded...\n",
      "photo-1530122037265-a5f1f91d3b99.jpg\n",
      "photo-1530122037265-a5f1f91d3b99.jpg was downloaded...\n",
      "photo-1516972810927-80185027ca84.jpg\n",
      "photo-1516972810927-80185027ca84.jpg was downloaded...\n",
      "photo-1550439062-609e1531270e.jpg\n",
      "photo-1550439062-609e1531270e.jpg was downloaded...\n",
      "photo-1549692520-acc6669e2f0c.jpg\n",
      "photo-1549692520-acc6669e2f0c.jpg was downloaded...\n",
      "time taken for downloading the image is 34.35102110000025\n"
     ]
    }
   ],
   "source": [
    "import requests\n",
    "import time\n",
    "import concurrent.futures\n",
    "\n",
    "img_urls = [\n",
    "    'https://images.unsplash.com/photo-1516117172878-fd2c41f4a759',\n",
    "    'https://images.unsplash.com/photo-1532009324734-20a7a5813719',\n",
    "    'https://images.unsplash.com/photo-1524429656589-6633a470097c',\n",
    "    'https://images.unsplash.com/photo-1530224264768-7ff8c1789d79',\n",
    "    'https://images.unsplash.com/photo-1564135624576-c5c88640f235',\n",
    "    'https://images.unsplash.com/photo-1541698444083-023c97d3f4b6',\n",
    "    'https://images.unsplash.com/photo-1522364723953-452d3431c267',\n",
    "    'https://images.unsplash.com/photo-1513938709626-033611b8cc03',\n",
    "    'https://images.unsplash.com/photo-1507143550189-fed454f93097',\n",
    "    'https://images.unsplash.com/photo-1493976040374-85c8e12f0c0e',\n",
    "    'https://images.unsplash.com/photo-1504198453319-5ce911bafcde',\n",
    "    'https://images.unsplash.com/photo-1530122037265-a5f1f91d3b99',\n",
    "    'https://images.unsplash.com/photo-1516972810927-80185027ca84',\n",
    "    'https://images.unsplash.com/photo-1550439062-609e1531270e',\n",
    "    'https://images.unsplash.com/photo-1549692520-acc6669e2f0c'\n",
    "]\n",
    "\n",
    "t1 = time.perf_counter()\n",
    "\n",
    "\n",
    "for img_url in img_urls:\n",
    "    img_bytes = requests.get(img_url).content\n",
    "    img_name = img_url.split('/')[3]\n",
    "    img_name = f'{img_name}.jpg'\n",
    "    print(img_name)\n",
    "    with open(img_name, 'wb') as img_file:\n",
    "        img_file.write(img_bytes)\n",
    "        print(f'{img_name} was downloaded...')\n",
    "\n",
    "t2 = time.perf_counter()\n",
    "\n",
    "print(f\"time taken for downloading the image is {t2-t1}\")"
   ]
  },
  {
   "cell_type": "code",
   "execution_count": 13,
   "metadata": {},
   "outputs": [
    {
     "name": "stdout",
     "output_type": "stream",
     "text": [
      "photo-1549692520-acc6669e2f0c.jpg was downloaded...\n",
      "photo-1564135624576-c5c88640f235.jpg was downloaded...\n",
      "photo-1504198453319-5ce911bafcde.jpg was downloaded...\n",
      "photo-1516117172878-fd2c41f4a759.jpg was downloaded...\n",
      "photo-1507143550189-fed454f93097.jpg was downloaded...\n",
      "photo-1530122037265-a5f1f91d3b99.jpg was downloaded...\n",
      "photo-1522364723953-452d3431c267.jpg was downloaded...\n",
      "photo-1550439062-609e1531270e.jpg was downloaded...\n",
      "photo-1516972810927-80185027ca84.jpg was downloaded...\n",
      "photo-1541698444083-023c97d3f4b6.jpg was downloaded...\n",
      "photo-1513938709626-033611b8cc03.jpg was downloaded...\n",
      "photo-1530224264768-7ff8c1789d79.jpg was downloaded...\n",
      "photo-1493976040374-85c8e12f0c0e.jpg was downloaded...\n",
      "photo-1532009324734-20a7a5813719.jpg was downloaded...\n",
      "photo-1524429656589-6633a470097c.jpg was downloaded...\n",
      "time taken for downloading the image is 26.75347809999994\n"
     ]
    }
   ],
   "source": [
    "import requests\n",
    "import time\n",
    "import concurrent.futures\n",
    "\n",
    "img_urls = [\n",
    "    'https://images.unsplash.com/photo-1516117172878-fd2c41f4a759',\n",
    "    'https://images.unsplash.com/photo-1532009324734-20a7a5813719',\n",
    "    'https://images.unsplash.com/photo-1524429656589-6633a470097c',\n",
    "    'https://images.unsplash.com/photo-1530224264768-7ff8c1789d79',\n",
    "    'https://images.unsplash.com/photo-1564135624576-c5c88640f235',\n",
    "    'https://images.unsplash.com/photo-1541698444083-023c97d3f4b6',\n",
    "    'https://images.unsplash.com/photo-1522364723953-452d3431c267',\n",
    "    'https://images.unsplash.com/photo-1513938709626-033611b8cc03',\n",
    "    'https://images.unsplash.com/photo-1507143550189-fed454f93097',\n",
    "    'https://images.unsplash.com/photo-1493976040374-85c8e12f0c0e',\n",
    "    'https://images.unsplash.com/photo-1504198453319-5ce911bafcde',\n",
    "    'https://images.unsplash.com/photo-1530122037265-a5f1f91d3b99',\n",
    "    'https://images.unsplash.com/photo-1516972810927-80185027ca84',\n",
    "    'https://images.unsplash.com/photo-1550439062-609e1531270e',\n",
    "    'https://images.unsplash.com/photo-1549692520-acc6669e2f0c'\n",
    "]\n",
    "\n",
    "t1 = time.perf_counter()\n",
    "\n",
    "\n",
    "def download_img(img_url):\n",
    "    img_bytes = requests.get(img_url).content\n",
    "    img_name = img_url.split('/')[3]\n",
    "    img_name = f'{img_name}.jpg'\n",
    "    with open(img_name, 'wb') as img_file:\n",
    "        img_file.write(img_bytes)\n",
    "        print(f'{img_name} was downloaded...')\n",
    "\n",
    "with concurrent.futures.ThreadPoolExecutor() as executor:\n",
    "    executor.map(download_img, img_urls)\n",
    "        \n",
    "t2 = time.perf_counter()\n",
    "\n",
    "print(f\"time taken for downloading the image is {t2-t1}\")"
   ]
  },
  {
   "cell_type": "code",
   "execution_count": null,
   "metadata": {},
   "outputs": [],
   "source": []
  }
 ],
 "metadata": {
  "kernelspec": {
   "display_name": "Python 3",
   "language": "python",
   "name": "python3"
  },
  "language_info": {
   "codemirror_mode": {
    "name": "ipython",
    "version": 3
   },
   "file_extension": ".py",
   "mimetype": "text/x-python",
   "name": "python",
   "nbconvert_exporter": "python",
   "pygments_lexer": "ipython3",
   "version": "3.7.6"
  }
 },
 "nbformat": 4,
 "nbformat_minor": 4
}
