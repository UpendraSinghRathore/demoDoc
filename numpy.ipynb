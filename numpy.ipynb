{
 "cells": [
  {
   "cell_type": "markdown",
   "metadata": {},
   "source": [
    "# Numpy\n",
    "Numpy is 50x faster then traditional python lists because NumPy arrays are stored at one continuous place in memory unlike lists, so processes can access and manipulate them very efficiently. NumPy offers comprehensive mathematical functions, random number generators, linear algebra routines."
   ]
  },
  {
   "cell_type": "code",
   "execution_count": 1,
   "metadata": {},
   "outputs": [
    {
     "data": {
      "text/plain": [
       "array([1, 2, 3, 4, 5, 6])"
      ]
     },
     "execution_count": 1,
     "metadata": {},
     "output_type": "execute_result"
    }
   ],
   "source": [
    "import numpy as np\n",
    "n = [1, 2, 3, 4, 5, 6]\n",
    "n = np.array(n)\n",
    "n"
   ]
  },
  {
   "cell_type": "code",
   "execution_count": 2,
   "metadata": {},
   "outputs": [
    {
     "ename": "NameError",
     "evalue": "name 'a' is not defined",
     "output_type": "error",
     "traceback": [
      "\u001b[1;31m---------------------------------------------------------------------------\u001b[0m",
      "\u001b[1;31mNameError\u001b[0m                                 Traceback (most recent call last)",
      "\u001b[1;32m<ipython-input-2-0a4e6da6d842>\u001b[0m in \u001b[0;36m<module>\u001b[1;34m\u001b[0m\n\u001b[0;32m      1\u001b[0m \u001b[1;31m# Datatype have to be same\u001b[0m\u001b[1;33m\u001b[0m\u001b[1;33m\u001b[0m\u001b[1;33m\u001b[0m\u001b[0m\n\u001b[1;32m----> 2\u001b[1;33m \u001b[0mmarks\u001b[0m \u001b[1;33m=\u001b[0m \u001b[1;33m[\u001b[0m\u001b[1;36m12\u001b[0m\u001b[1;33m,\u001b[0m\u001b[1;36m2.3\u001b[0m\u001b[1;33m,\u001b[0m\u001b[1;36m21\u001b[0m\u001b[1;33m,\u001b[0m\u001b[0ma\u001b[0m\u001b[1;33m,\u001b[0m\u001b[1;36m1.5\u001b[0m\u001b[1;33m]\u001b[0m\u001b[1;33m\u001b[0m\u001b[1;33m\u001b[0m\u001b[0m\n\u001b[0m\u001b[0;32m      3\u001b[0m \u001b[0mnp_marks\u001b[0m \u001b[1;33m=\u001b[0m \u001b[0mnp\u001b[0m\u001b[1;33m.\u001b[0m\u001b[0marray\u001b[0m\u001b[1;33m(\u001b[0m\u001b[0mmarks\u001b[0m\u001b[1;33m)\u001b[0m\u001b[1;33m\u001b[0m\u001b[1;33m\u001b[0m\u001b[0m\n\u001b[0;32m      4\u001b[0m \u001b[0mprint\u001b[0m\u001b[1;33m(\u001b[0m\u001b[0mnp_marks\u001b[0m\u001b[1;33m)\u001b[0m\u001b[1;33m\u001b[0m\u001b[1;33m\u001b[0m\u001b[0m\n\u001b[0;32m      5\u001b[0m \u001b[0mprint\u001b[0m\u001b[1;33m(\u001b[0m\u001b[0mtype\u001b[0m\u001b[1;33m(\u001b[0m\u001b[0mnp_marks\u001b[0m\u001b[1;33m)\u001b[0m\u001b[1;33m)\u001b[0m\u001b[1;33m\u001b[0m\u001b[1;33m\u001b[0m\u001b[0m\n",
      "\u001b[1;31mNameError\u001b[0m: name 'a' is not defined"
     ]
    }
   ],
   "source": [
    "# Datatype have to be same\n",
    "marks = [12,2.3,21,a,1.5]\n",
    "np_marks = np.array(marks)\n",
    "print(np_marks)\n",
    "print(type(np_marks))"
   ]
  },
  {
   "cell_type": "code",
   "execution_count": 3,
   "metadata": {},
   "outputs": [
    {
     "name": "stdout",
     "output_type": "stream",
     "text": [
      "['a' 'b' 'c' 'd' 'e' 'f']\n",
      "<class 'numpy.ndarray'>\n"
     ]
    }
   ],
   "source": [
    "marks = ['a', 'b', 'c', 'd', 'e', 'f']\n",
    "np_marks = np.array(marks)\n",
    "print(np_marks)\n",
    "print(type(np_marks))"
   ]
  },
  {
   "cell_type": "code",
   "execution_count": 4,
   "metadata": {},
   "outputs": [
    {
     "name": "stdout",
     "output_type": "stream",
     "text": [
      "[12 23 21  5 15]\n",
      "<class 'numpy.ndarray'>\n",
      "int32\n"
     ]
    }
   ],
   "source": [
    "marks = [12,23,21,5,15]\n",
    "np_marks = np.array(marks)\n",
    "print(np_marks)\n",
    "print(type(np_marks))\n",
    "print(np_marks.dtype)"
   ]
  },
  {
   "cell_type": "code",
   "execution_count": 8,
   "metadata": {
    "scrolled": true
   },
   "outputs": [
    {
     "name": "stdout",
     "output_type": "stream",
     "text": [
      "5\n",
      "1\n"
     ]
    }
   ],
   "source": [
    "print(np_marks.size)\n",
    "print(np_marks.ndim)"
   ]
  },
  {
   "cell_type": "code",
   "execution_count": 9,
   "metadata": {},
   "outputs": [
    {
     "data": {
      "text/plain": [
       "4"
      ]
     },
     "execution_count": 9,
     "metadata": {},
     "output_type": "execute_result"
    }
   ],
   "source": [
    "# for size in bytes of members \n",
    "np_marks.itemsize"
   ]
  },
  {
   "cell_type": "code",
   "execution_count": 10,
   "metadata": {},
   "outputs": [
    {
     "name": "stdout",
     "output_type": "stream",
     "text": [
      "234 235 4 5436 54 765 86 867 98 0890 890 8 976 8787\n",
      "data =  ['234', '235', '4', '5436', '54', '765', '86', '867', '98', '0890', '890', '8', '976', '8787']\n",
      "[234, 235, 4, 5436, 54, 765, 86, 867, 98, 890, 890, 8, 976, 8787]\n"
     ]
    }
   ],
   "source": [
    "data = input().split()\n",
    "print(\"data = \",data)\n",
    "data = [int(n) for n in data]\n",
    "print(data)"
   ]
  },
  {
   "cell_type": "code",
   "execution_count": 11,
   "metadata": {},
   "outputs": [
    {
     "name": "stdout",
     "output_type": "stream",
     "text": [
      "343654 765 87 94 64 6 3 2 5 135 231235 233\n",
      "['343654' '765' '87' '94' '64' '6' '3' '2' '5' '135' '231235' '233'] <U6\n",
      "[343654    765     87     94     64      6      3      2      5    135\n",
      " 231235    233] int32\n"
     ]
    },
    {
     "data": {
      "text/plain": [
       "4"
      ]
     },
     "execution_count": 11,
     "metadata": {},
     "output_type": "execute_result"
    }
   ],
   "source": [
    "data= input().split()\n",
    "np_data = np.array(data)\n",
    "np_converted = np_data.astype('int')\n",
    "print(np_data , np_data.dtype)\n",
    "print(np_converted , np_converted.dtype)\n",
    "np_converted.itemsize"
   ]
  },
  {
   "cell_type": "code",
   "execution_count": 12,
   "metadata": {},
   "outputs": [
    {
     "name": "stdout",
     "output_type": "stream",
     "text": [
      "[1.28000000e+02 3.27680000e+04 2.14748365e+09 2.14748365e+09]\n",
      "float64\n"
     ]
    }
   ],
   "source": [
    "marks = [128,32768,2147483648,2147483648]\n",
    "np_marks = np.array(marks , dtype='float64')\n",
    "print(np_marks)\n",
    "print(np_marks.dtype)"
   ]
  },
  {
   "cell_type": "code",
   "execution_count": 13,
   "metadata": {},
   "outputs": [
    {
     "name": "stdout",
     "output_type": "stream",
     "text": [
      "mnopqrst\n",
      "ijkl\n"
     ]
    }
   ],
   "source": [
    "# accessing elements\n",
    "data=[\"abc\", \"defgh\", \"ijkl\", \"mnopqrst\"]\n",
    "np_data = np.array(data)\n",
    "print(np_data[-1])\n",
    "print(np_data[-2])"
   ]
  },
  {
   "cell_type": "code",
   "execution_count": 14,
   "metadata": {},
   "outputs": [
    {
     "name": "stdout",
     "output_type": "stream",
     "text": [
      "a :  [12, 23, 34, 45, 56]\n",
      "b :  [12, 23, 34, 45, 56]\n",
      "a :  [78, 89, 34, 45, 56]\n",
      "b :  [78, 89, 34, 45, 56]\n",
      "a :  [1, 2, 34, 45, 56]\n",
      "b : [1, 2, 34, 45, 56]\n"
     ]
    }
   ],
   "source": [
    "#shallow copy   -  change will show into copy\n",
    "a = [12,23,34,45,56]\n",
    "b = a\n",
    "print(\"a : \" , a)\n",
    "print(\"b : \" , b)\n",
    "a[0] = 78\n",
    "a[1] = 89\n",
    "print(\"a : \" , a)\n",
    "print(\"b : \" , b)\n",
    "b[0] = 1\n",
    "b[1] = 2\n",
    "print(\"a : \",a)\n",
    "print(\"b :\",b)"
   ]
  },
  {
   "cell_type": "code",
   "execution_count": 15,
   "metadata": {},
   "outputs": [
    {
     "name": "stdout",
     "output_type": "stream",
     "text": [
      "a :  [12, 23, 34, 45, 56]\n",
      "c :  [12, 23, 34]\n",
      "a :  [78, 89, 34, 45, 56]\n",
      "c :  [12, 23, 34]\n"
     ]
    }
   ],
   "source": [
    "#deep copy\n",
    "a = [12,23,34,45,56]\n",
    "c = a[:3]\n",
    "print(\"a : \" , a)\n",
    "print(\"c : \" , c)\n",
    "a[0] = 78\n",
    "a[1] = 89\n",
    "print(\"a : \" , a)\n",
    "print(\"c : \" , c)"
   ]
  },
  {
   "cell_type": "code",
   "execution_count": 16,
   "metadata": {},
   "outputs": [
    {
     "name": "stdout",
     "output_type": "stream",
     "text": [
      "a :  [12 23 34 45 56]\n",
      "c :  [12 23 34]\n",
      "a :  [78 89 34 45 56]\n",
      "c :  [78 89 34]\n"
     ]
    }
   ],
   "source": [
    "#shallow copy of numpy array\n",
    "a =np.array([12,23,34,45,56])\n",
    "c = a[:3]\n",
    "print(\"a : \" , a)\n",
    "print(\"c : \" , c)\n",
    "a[0] = 78\n",
    "a[1] = 89\n",
    "print(\"a : \" , a)\n",
    "print(\"c : \" , c)"
   ]
  },
  {
   "cell_type": "code",
   "execution_count": 17,
   "metadata": {},
   "outputs": [
    {
     "name": "stdout",
     "output_type": "stream",
     "text": [
      "a :  [12 23 34 45 56]\n",
      "c :  [12 23 34]\n",
      "a :  [78 89 34 45 56]\n",
      "c :  [12 23 34]\n"
     ]
    }
   ],
   "source": [
    "#deep copy of numpy array\n",
    "a = np.array([12,23,34,45,56])\n",
    "c = np.copy(a[:3])\n",
    "print(\"a : \" , a)\n",
    "print(\"c : \" , c)\n",
    "a[0] = 78\n",
    "a[1] = 89\n",
    "print(\"a : \" , a)\n",
    "print(\"c : \" , c)"
   ]
  },
  {
   "cell_type": "code",
   "execution_count": 18,
   "metadata": {},
   "outputs": [
    {
     "name": "stdout",
     "output_type": "stream",
     "text": [
      "[210, 330, 260, 410]\n"
     ]
    }
   ],
   "source": [
    "salary = [200,320,250,400]\n",
    "bonus = 10\n",
    "bonus_salary = [(i+bonus) for i in salary]\n",
    "print(bonus_salary)"
   ]
  },
  {
   "cell_type": "markdown",
   "metadata": {},
   "source": [
    "### Broadcasting"
   ]
  },
  {
   "cell_type": "code",
   "execution_count": 19,
   "metadata": {},
   "outputs": [
    {
     "name": "stdout",
     "output_type": "stream",
     "text": [
      "[210 330 260 410]\n"
     ]
    }
   ],
   "source": [
    "salary = [200,320,250,400]\n",
    "np_salary = np.array(salary)\n",
    "np_bonussalary = np_salary+10\n",
    "print(np_bonussalary)\n",
    "#Numpy Array (any operator) scalar value==> it will apply to all it is broadcsting"
   ]
  },
  {
   "cell_type": "code",
   "execution_count": 20,
   "metadata": {},
   "outputs": [
    {
     "name": "stdout",
     "output_type": "stream",
     "text": [
      "[220. 352. 275. 440.]\n"
     ]
    }
   ],
   "source": [
    "salary = [200,320,250,400]\n",
    "np_salary = np.array(salary)\n",
    "np_bonussalary = np_salary+((np_salary)*0.1)\n",
    "print(np_bonussalary)"
   ]
  },
  {
   "cell_type": "markdown",
   "metadata": {},
   "source": [
    "### VECTORIZATION"
   ]
  },
  {
   "cell_type": "code",
   "execution_count": 21,
   "metadata": {},
   "outputs": [
    {
     "name": "stdout",
     "output_type": "stream",
     "text": [
      "[400 640 500 800]\n"
     ]
    }
   ],
   "source": [
    "np_first = np.array([200,320,250,400])\n",
    "np_second = np.array([200,320,250,400])\n",
    "np_result = np_first+np_second                       #vectorization\n",
    "print(np_result)"
   ]
  },
  {
   "cell_type": "code",
   "execution_count": 22,
   "metadata": {},
   "outputs": [
    {
     "ename": "ValueError",
     "evalue": "operands could not be broadcast together with shapes (5,) (4,) ",
     "output_type": "error",
     "traceback": [
      "\u001b[1;31m---------------------------------------------------------------------------\u001b[0m",
      "\u001b[1;31mValueError\u001b[0m                                Traceback (most recent call last)",
      "\u001b[1;32m<ipython-input-22-fb657ea60992>\u001b[0m in \u001b[0;36m<module>\u001b[1;34m\u001b[0m\n\u001b[0;32m      2\u001b[0m \u001b[0mnp_first\u001b[0m \u001b[1;33m=\u001b[0m \u001b[0mnp\u001b[0m\u001b[1;33m.\u001b[0m\u001b[0marray\u001b[0m\u001b[1;33m(\u001b[0m\u001b[1;33m[\u001b[0m\u001b[1;36m200\u001b[0m\u001b[1;33m,\u001b[0m\u001b[1;36m320\u001b[0m\u001b[1;33m,\u001b[0m\u001b[1;36m250\u001b[0m\u001b[1;33m,\u001b[0m\u001b[1;36m400\u001b[0m\u001b[1;33m,\u001b[0m\u001b[1;36m565\u001b[0m\u001b[1;33m]\u001b[0m\u001b[1;33m)\u001b[0m\u001b[1;33m\u001b[0m\u001b[1;33m\u001b[0m\u001b[0m\n\u001b[0;32m      3\u001b[0m \u001b[0mnp_second\u001b[0m \u001b[1;33m=\u001b[0m \u001b[0mnp\u001b[0m\u001b[1;33m.\u001b[0m\u001b[0marray\u001b[0m\u001b[1;33m(\u001b[0m\u001b[1;33m[\u001b[0m\u001b[1;36m200\u001b[0m\u001b[1;33m,\u001b[0m\u001b[1;36m320\u001b[0m\u001b[1;33m,\u001b[0m\u001b[1;36m250\u001b[0m\u001b[1;33m,\u001b[0m\u001b[1;36m400\u001b[0m\u001b[1;33m]\u001b[0m\u001b[1;33m)\u001b[0m\u001b[1;33m\u001b[0m\u001b[1;33m\u001b[0m\u001b[0m\n\u001b[1;32m----> 4\u001b[1;33m \u001b[0mnp_result\u001b[0m \u001b[1;33m=\u001b[0m \u001b[0mnp_first\u001b[0m\u001b[1;33m+\u001b[0m\u001b[0mnp_second\u001b[0m\u001b[1;33m\u001b[0m\u001b[1;33m\u001b[0m\u001b[0m\n\u001b[0m\u001b[0;32m      5\u001b[0m \u001b[0mprint\u001b[0m\u001b[1;33m(\u001b[0m\u001b[0mnp_result\u001b[0m\u001b[1;33m)\u001b[0m\u001b[1;33m\u001b[0m\u001b[1;33m\u001b[0m\u001b[0m\n",
      "\u001b[1;31mValueError\u001b[0m: operands could not be broadcast together with shapes (5,) (4,) "
     ]
    }
   ],
   "source": [
    "# for vectorization size have to be same\n",
    "np_first = np.array([200,320,250,400,565])\n",
    "np_second = np.array([200,320,250,400])\n",
    "np_result = np_first+np_second                      \n",
    "print(np_result)"
   ]
  },
  {
   "cell_type": "code",
   "execution_count": 23,
   "metadata": {},
   "outputs": [
    {
     "name": "stdout",
     "output_type": "stream",
     "text": [
      "True\n"
     ]
    }
   ],
   "source": [
    "a = [5, 6, 7]\n",
    "b = [5, 6, 7]\n",
    "print( a == b )"
   ]
  },
  {
   "cell_type": "code",
   "execution_count": 24,
   "metadata": {},
   "outputs": [
    {
     "data": {
      "text/plain": [
       "False"
      ]
     },
     "execution_count": 24,
     "metadata": {},
     "output_type": "execute_result"
    }
   ],
   "source": [
    "a = [5, 6, 7]\n",
    "b = [5, 6, 7]\n",
    "b is a"
   ]
  },
  {
   "cell_type": "code",
   "execution_count": 25,
   "metadata": {},
   "outputs": [
    {
     "name": "stdout",
     "output_type": "stream",
     "text": [
      "False\n",
      "True\n"
     ]
    }
   ],
   "source": [
    "a = [5, 6, 7]\n",
    "b = [5, 6, 7]\n",
    "c = a\n",
    "print( id(a) == id(b))\n",
    "print( id(a) == id(c))"
   ]
  },
  {
   "cell_type": "code",
   "execution_count": 26,
   "metadata": {},
   "outputs": [
    {
     "name": "stdout",
     "output_type": "stream",
     "text": [
      "[ True  True  True]\n",
      "False\n"
     ]
    },
    {
     "data": {
      "text/plain": [
       "False"
      ]
     },
     "execution_count": 26,
     "metadata": {},
     "output_type": "execute_result"
    }
   ],
   "source": [
    "np_a = np.array([5 ,6 ,7])\n",
    "np_b = np.array([5, 6, 7])\n",
    "print(np_a == np_b)\n",
    "print(np_a is np_b)\n",
    "id(np_a)==id(np_b)"
   ]
  },
  {
   "cell_type": "code",
   "execution_count": 27,
   "metadata": {},
   "outputs": [
    {
     "name": "stdout",
     "output_type": "stream",
     "text": [
      "[ True  True False]\n",
      "False\n"
     ]
    },
    {
     "data": {
      "text/plain": [
       "False"
      ]
     },
     "execution_count": 27,
     "metadata": {},
     "output_type": "execute_result"
    }
   ],
   "source": [
    "np_a = np.array([5, 6, 8])\n",
    "np_b = np.array([5, 6, 7])\n",
    "print(np_a == np_b)\n",
    "print(np_a is np_b)\n",
    "id(np_a) == id(np_b)"
   ]
  },
  {
   "cell_type": "code",
   "execution_count": 28,
   "metadata": {},
   "outputs": [
    {
     "data": {
      "text/plain": [
       "array([ True, False, False, False, False])"
      ]
     },
     "execution_count": 28,
     "metadata": {},
     "output_type": "execute_result"
    }
   ],
   "source": [
    "p1 = np.array([6,4,3,6,7])\n",
    "p2 = np.array([5,5,8,6,7])\n",
    "p1 > p2"
   ]
  },
  {
   "cell_type": "code",
   "execution_count": 29,
   "metadata": {},
   "outputs": [
    {
     "data": {
      "text/plain": [
       "False"
      ]
     },
     "execution_count": 29,
     "metadata": {},
     "output_type": "execute_result"
    }
   ],
   "source": [
    "p1 = [5, 6, 7, 8, 9]\n",
    "p2 = [6, 1, 2, 3, 4]\n",
    "p1 > p2\n",
    "#in list it will check for only for 1st element"
   ]
  },
  {
   "cell_type": "code",
   "execution_count": 30,
   "metadata": {},
   "outputs": [
    {
     "name": "stdout",
     "output_type": "stream",
     "text": [
      "[23, 29, 40]\n"
     ]
    }
   ],
   "source": [
    "marks = [23, 18, 29, 40, 15, 12]\n",
    "li = [i for i in marks if i>20]\n",
    "print(li)"
   ]
  },
  {
   "cell_type": "code",
   "execution_count": 31,
   "metadata": {},
   "outputs": [
    {
     "name": "stdout",
     "output_type": "stream",
     "text": [
      "[ True False  True  True False False]\n"
     ]
    },
    {
     "data": {
      "text/plain": [
       "array([23, 29, 40])"
      ]
     },
     "execution_count": 31,
     "metadata": {},
     "output_type": "execute_result"
    }
   ],
   "source": [
    "np_marks = np.array([23, 18, 29, 40, 15, 12])\n",
    "passedBool = (np_marks >= 20)\n",
    "print(passedBool)\n",
    "np_marks[passedBool]"
   ]
  },
  {
   "cell_type": "code",
   "execution_count": 32,
   "metadata": {},
   "outputs": [
    {
     "data": {
      "text/plain": [
       "array([23, 29, 40])"
      ]
     },
     "execution_count": 32,
     "metadata": {},
     "output_type": "execute_result"
    }
   ],
   "source": [
    "np_marks = np.array([23, 18, 29, 40, 15, 12])\n",
    "np_marks[np_marks > 20]"
   ]
  },
  {
   "cell_type": "code",
   "execution_count": 33,
   "metadata": {},
   "outputs": [
    {
     "data": {
      "text/plain": [
       "array([23, 29, 40, 29, 35])"
      ]
     },
     "execution_count": 33,
     "metadata": {},
     "output_type": "execute_result"
    }
   ],
   "source": [
    "np_marks = np.array([23, 18, 29, 40, 15, 12, 45, 29, 35])\n",
    "passedBool = np_marks[(np_marks >= 20) & (np_marks <= 40)]\n",
    "passedBool"
   ]
  },
  {
   "cell_type": "code",
   "execution_count": 34,
   "metadata": {},
   "outputs": [
    {
     "name": "stdout",
     "output_type": "stream",
     "text": [
      "[ True  True  True  True  True]\n",
      "[False  True  True False  True]\n"
     ]
    }
   ],
   "source": [
    "# lets assume more then 15 is good score\n",
    "np_marksAptitude = np.array([12, 18, 20, 18, 21])\n",
    "np_marksTechnical = np.array([18, 17, 20, 14, 22])\n",
    "\n",
    "goodInAtleastOne = ((np_marksAptitude >= 15) |  (np_marksTechnical >= 15))\n",
    "\n",
    "print(goodInAtleastOne)\n",
    "\n",
    "goodInBoth = ((np_marksAptitude >= 15) &  (np_marksTechnical >= 15))\n",
    "\n",
    "print(goodInBoth)"
   ]
  },
  {
   "cell_type": "code",
   "execution_count": 35,
   "metadata": {},
   "outputs": [
    {
     "name": "stdout",
     "output_type": "stream",
     "text": [
      "good in both  [False  True  True False  True]\n",
      "good in only one  [ True False False  True False]\n",
      "good in atlest one  [ True  True  True  True  True]\n"
     ]
    }
   ],
   "source": [
    "np_marksAptitude = np.array([12,18,20,18,21])\n",
    "np_marksTechnical = np.array([18,17,20,14,22])\n",
    "\n",
    "c1 = (np_marksAptitude >= 15)\n",
    "\n",
    "c2 = (np_marksTechnical >= 15)\n",
    "\n",
    "print(\"good in both \",c1 & c2)\n",
    "print(\"good in only one \",c1 ^ c2)\n",
    "print(\"good in atlest one \",c1 | c2)"
   ]
  },
  {
   "cell_type": "code",
   "execution_count": 36,
   "metadata": {},
   "outputs": [
    {
     "name": "stdout",
     "output_type": "stream",
     "text": [
      "34\n",
      "34\n",
      "34\n"
     ]
    }
   ],
   "source": [
    "a = [12, 13, 4, 5]\n",
    "np_a = np.array(a)\n",
    "\n",
    "print(sum(np_a))        #list sum\n",
    "\n",
    "print(np_a.sum())\n",
    "\n",
    "print(np.sum(np_a))    #numpy sum\n",
    "\n",
    "# 1. numpy functions are faster\n",
    "# 2. numpy functions can be used with multidimensional arrays"
   ]
  },
  {
   "cell_type": "code",
   "execution_count": 37,
   "metadata": {},
   "outputs": [
    {
     "name": "stdout",
     "output_type": "stream",
     "text": [
      "4\n"
     ]
    }
   ],
   "source": [
    "a = [12, 1, 3, 14, 29, 23, 6]\n",
    "b = a.index(max(a))\n",
    "print(b)"
   ]
  },
  {
   "cell_type": "code",
   "execution_count": 38,
   "metadata": {},
   "outputs": [
    {
     "name": "stdout",
     "output_type": "stream",
     "text": [
      "4\n",
      "1\n"
     ]
    }
   ],
   "source": [
    "np_a = np.array(a)\n",
    "print(np.argmax(np_a))                             #largest element index\n",
    "print(np.argmin(np_a))                            #smallest element index"
   ]
  },
  {
   "cell_type": "code",
   "execution_count": 39,
   "metadata": {},
   "outputs": [
    {
     "name": "stdout",
     "output_type": "stream",
     "text": [
      "5.833333333333333\n"
     ]
    }
   ],
   "source": [
    "# average of np array\n",
    "a = [2, 5, 1, 6, 14, 7]\n",
    "np_a = np.array(a)\n",
    "avg = np.sum(np_a)/len(np_a)\n",
    "print(avg)"
   ]
  },
  {
   "cell_type": "code",
   "execution_count": 40,
   "metadata": {},
   "outputs": [
    {
     "name": "stdout",
     "output_type": "stream",
     "text": [
      "1.6\n",
      "2.0\n",
      "0.4898979485566356\n"
     ]
    }
   ],
   "source": [
    "a = [1, 2, 2, 2, 1]\n",
    "np_a = np.array(a)\n",
    "\n",
    "avg = np.mean(np_a)\n",
    "print(avg)                      #average\n",
    "\n",
    "med = np.median(np_a)\n",
    "print(med)                      #median\n",
    "\n",
    "stdd = np.std(np_a)\n",
    "print(stdd)                     #standard deviation"
   ]
  },
  {
   "cell_type": "code",
   "execution_count": 41,
   "metadata": {},
   "outputs": [
    {
     "name": "stdout",
     "output_type": "stream",
     "text": [
      "6\n"
     ]
    }
   ],
   "source": [
    "minMarks = 20\n",
    "np_marks = np.array( [23,20, 34, 42, 29, 18, 12, 34])\n",
    "np_pass = np_marks[np_marks >=20]\n",
    "print(len(np_pass))"
   ]
  },
  {
   "cell_type": "code",
   "execution_count": 42,
   "metadata": {},
   "outputs": [
    {
     "data": {
      "text/plain": [
       "6"
      ]
     },
     "execution_count": 42,
     "metadata": {},
     "output_type": "execute_result"
    }
   ],
   "source": [
    "minMarks = 20\n",
    "np_marks = np.array( [23,20, 34, 42, 29, 18, 12, 34])\n",
    "(np_marks >= 20).sum()"
   ]
  },
  {
   "cell_type": "code",
   "execution_count": 43,
   "metadata": {},
   "outputs": [
    {
     "name": "stdout",
     "output_type": "stream",
     "text": [
      "fail\n"
     ]
    }
   ],
   "source": [
    "minMarks = 20\n",
    "np_marks = np.array( [23,20, 34, 42, 29, 18, 12, 34])\n",
    "print(\"pass\" if (np_marks >= minMarks).all() else \"fail\")"
   ]
  },
  {
   "cell_type": "code",
   "execution_count": 44,
   "metadata": {},
   "outputs": [
    {
     "name": "stdout",
     "output_type": "stream",
     "text": [
      "pass\n"
     ]
    }
   ],
   "source": [
    "minMarks = 20\n",
    "np_marks = np.array( [23,20, 34, 42, 29, 20, 20, 34])\n",
    "print(\"pass\" if (np_marks >= minMarks).all() else \"fail\")"
   ]
  },
  {
   "cell_type": "code",
   "execution_count": 45,
   "metadata": {},
   "outputs": [
    {
     "data": {
      "text/plain": [
       "array([23, 20, 34, 42, 29, 18, 12, 34, 34])"
      ]
     },
     "execution_count": 45,
     "metadata": {},
     "output_type": "execute_result"
    }
   ],
   "source": [
    "np_marks = np.array( [23,20, 34, 42, 29, 18, 12, 34])\n",
    "np_marks = np.append(np_marks,34)          #we have to receive it in an array or list because it is not changing the argument\n",
    "np_marks"
   ]
  },
  {
   "cell_type": "code",
   "execution_count": 46,
   "metadata": {},
   "outputs": [
    {
     "data": {
      "text/plain": [
       "array([23, 20, 34, 42, 29, 18, 12, 34, 23, 45,  7])"
      ]
     },
     "execution_count": 46,
     "metadata": {},
     "output_type": "execute_result"
    }
   ],
   "source": [
    "# append and delete\n",
    "np_marks = np.array( [23,20, 34, 42, 29, 18, 12, 34])\n",
    "np_newarray = np.append(np_marks,[23,45,7])    #we have to receive it in an array or list because it is not changing the argument\n",
    "np_newarray"
   ]
  },
  {
   "cell_type": "code",
   "execution_count": 47,
   "metadata": {
    "scrolled": true
   },
   "outputs": [
    {
     "name": "stdout",
     "output_type": "stream",
     "text": [
      "[23 34 42 29 18 12 34]\n",
      "[23 20 34 42 29 18 12 34]\n"
     ]
    }
   ],
   "source": [
    "print(np.delete(np_marks,1))\n",
    "print(np_marks)"
   ]
  },
  {
   "cell_type": "code",
   "execution_count": 48,
   "metadata": {
    "scrolled": false
   },
   "outputs": [
    {
     "name": "stdout",
     "output_type": "stream",
     "text": [
      "[11 12 13 14  1  2]\n",
      "[1 2]\n"
     ]
    }
   ],
   "source": [
    "np_marks = np.array([11,12,13,14,1,2])\n",
    "np_newmarks = np.array(np.delete(np_marks,range(0,4)))\n",
    "print(np_marks)\n",
    "print(np_newmarks)"
   ]
  },
  {
   "cell_type": "code",
   "execution_count": 49,
   "metadata": {},
   "outputs": [
    {
     "name": "stdout",
     "output_type": "stream",
     "text": [
      "[[12, 23, 34], [21, 32, 43], [14, 25, 36], [19, 17, 21]]\n",
      "69\n",
      "96\n",
      "75\n",
      "57\n"
     ]
    }
   ],
   "source": [
    "student1 = [12, 23, 34]\n",
    "student2 = [21, 32, 43]\n",
    "student3 = [14, 25, 36]\n",
    "student4 = [19, 17, 21]\n",
    "marksList = [student1, student2, student3, student4]\n",
    "print( marksList )\n",
    "for ele in marksList :\n",
    "    print(sum(ele))"
   ]
  },
  {
   "cell_type": "code",
   "execution_count": 50,
   "metadata": {},
   "outputs": [
    {
     "name": "stdout",
     "output_type": "stream",
     "text": [
      "marksList : [[12, 23, 34], [21, 32, 43], [14, 25, 36], [19, 17, 21]]\n",
      "69\n",
      "96\n",
      "75\n",
      "57\n",
      "[[12, 23, 34], [21, 32, 43], [14, 25, 36], [19, 17, 21]]\n",
      "Addition of all: 297\n"
     ]
    }
   ],
   "source": [
    "student1 = [12, 23, 34]\n",
    "student2 = [21, 32, 43]\n",
    "student3 = [14, 25, 36]\n",
    "student4 = [19, 17, 21]\n",
    "marksList = [student1, student2, student3, student4]\n",
    "add = 0\n",
    "print(\"marksList :\", marksList )\n",
    "for ele in marksList :\n",
    "    print(sum(ele))\n",
    "print( marksList )\n",
    "for ele in marksList :\n",
    "    add = sum(ele)+add\n",
    "print(\"Addition of all:\",add)"
   ]
  },
  {
   "cell_type": "code",
   "execution_count": 51,
   "metadata": {},
   "outputs": [
    {
     "name": "stdout",
     "output_type": "stream",
     "text": [
      "4\n",
      "3\n",
      "66 "
     ]
    }
   ],
   "source": [
    "student1 = [12, 23, 34]\n",
    "student2 = [21, 32, 43]\n",
    "student3 = [14, 25, 36]\n",
    "student4 = [19, 17, 21]\n",
    "marksList = [student1, student2, student3, student4]\n",
    "add = 0\n",
    "rows = len(marksList)\n",
    "print(rows)\n",
    "cols = len(marksList[0])\n",
    "print(cols)\n",
    "\n",
    "c = 0\n",
    "for ri in range(rows):\n",
    "    for ci in range(cols):\n",
    "        if ci==c:\n",
    "            add = add+marksList[ri][ci]\n",
    "print(add,end=' ')"
   ]
  },
  {
   "cell_type": "code",
   "execution_count": 52,
   "metadata": {},
   "outputs": [
    {
     "name": "stdout",
     "output_type": "stream",
     "text": [
      "[[12, 23, 34], [21, 32, 43], [14, 25, 36], [19, 17, 21]]\n",
      "[[12 23 34]\n",
      " [21 32 43]\n",
      " [14 25 36]\n",
      " [19 17 21]]\n"
     ]
    }
   ],
   "source": [
    "np_marksList=np.array(marksList)\n",
    "print(marksList)\n",
    "print(np_marksList)"
   ]
  },
  {
   "cell_type": "code",
   "execution_count": 53,
   "metadata": {},
   "outputs": [
    {
     "name": "stdout",
     "output_type": "stream",
     "text": [
      "4\n",
      "3\n",
      "66\n"
     ]
    }
   ],
   "source": [
    "rows = len(np_marksList)\n",
    "print(rows)\n",
    "cols = len(np_marksList[0])\n",
    "print(cols)\n",
    "add=0\n",
    "c = 0\n",
    "for ri in range(rows):\n",
    "    for ci in range(cols):\n",
    "        if ci==c:\n",
    "            add=add+np_marksList[ri][ci]\n",
    "print(add)"
   ]
  },
  {
   "cell_type": "code",
   "execution_count": 54,
   "metadata": {},
   "outputs": [
    {
     "name": "stdout",
     "output_type": "stream",
     "text": [
      "297\n"
     ]
    }
   ],
   "source": [
    "print(np.sum(np_marksList))"
   ]
  },
  {
   "cell_type": "code",
   "execution_count": 55,
   "metadata": {},
   "outputs": [
    {
     "name": "stdout",
     "output_type": "stream",
     "text": [
      "[12 23 34 21 32 14 25 36 19 17 21]\n"
     ]
    }
   ],
   "source": [
    "print(np.delete(np_marksList,5))"
   ]
  },
  {
   "cell_type": "code",
   "execution_count": 56,
   "metadata": {},
   "outputs": [
    {
     "name": "stdout",
     "output_type": "stream",
     "text": [
      "[ 1  2  3  4  5  6  7  8  9 10]\n",
      "[[ 1  2]\n",
      " [ 3  4]\n",
      " [ 5  6]\n",
      " [ 7  8]\n",
      " [ 9 10]]\n",
      "[[ 1  2  3  4  5]\n",
      " [ 6  7  8  9 10]]\n"
     ]
    }
   ],
   "source": [
    "np_a = np.array([1,2,3,4,5,6,7,8,9,10])\n",
    "print(np_a)\n",
    "print( np_a.reshape((5, 2))  )\n",
    "print( np_a.reshape((2 , 5)) )"
   ]
  },
  {
   "cell_type": "code",
   "execution_count": 57,
   "metadata": {},
   "outputs": [
    {
     "name": "stdout",
     "output_type": "stream",
     "text": [
      "[0 1 2 3 4 5 6 7 8 9]\n"
     ]
    }
   ],
   "source": [
    "np_a = np.arange(10)\n",
    "print(np_a)"
   ]
  },
  {
   "cell_type": "code",
   "execution_count": 58,
   "metadata": {},
   "outputs": [
    {
     "name": "stdout",
     "output_type": "stream",
     "text": [
      "[2 3 4 5 6 7 8 9]\n",
      "[ 1  4  7 10 13 16 19]\n"
     ]
    }
   ],
   "source": [
    "np_a=np.arange(2,10)\n",
    "print(np_a)\n",
    "np_a=np.arange(1,20,3)\n",
    "print(np_a)"
   ]
  },
  {
   "cell_type": "code",
   "execution_count": 59,
   "metadata": {},
   "outputs": [
    {
     "name": "stdout",
     "output_type": "stream",
     "text": [
      "[ 1.   1.5  2.   2.5  3.   3.5  4.   4.5  5.   5.5  6.   6.5  7.   7.5\n",
      "  8.   8.5  9.   9.5 10.  10.5 11.  11.5 12.  12.5 13.  13.5 14.  14.5\n",
      " 15.  15.5 16.  16.5 17.  17.5 18.  18.5 19.  19.5]\n",
      "[0.  0.5 1.  1.5 2.  2.5 3.  3.5 4.  4.5 5.  5.5 6.  6.5 7.  7.5 8.  8.5\n",
      " 9.  9.5]\n"
     ]
    }
   ],
   "source": [
    "#x=range(1,10,0.5)\n",
    "#print(x)\n",
    "#step size float is not avaliable in range fun\n",
    "np_a=np.arange(1,20,0.5)\n",
    "print(np_a)\n",
    "np_a=np.arange(10, step = 0.5)\n",
    "print(np_a)"
   ]
  },
  {
   "cell_type": "code",
   "execution_count": 60,
   "metadata": {},
   "outputs": [
    {
     "name": "stdout",
     "output_type": "stream",
     "text": [
      "[1. 1. 1. 1. 1.]\n",
      "[[1. 1. 1.]\n",
      " [1. 1. 1.]]\n",
      "[0. 0. 0. 0. 0.]\n",
      "[[0. 0. 0.]\n",
      " [0. 0. 0.]]\n",
      "[[1. 0. 0. 0. 0.]\n",
      " [0. 1. 0. 0. 0.]\n",
      " [0. 0. 1. 0. 0.]\n",
      " [0. 0. 0. 1. 0.]\n",
      " [0. 0. 0. 0. 1.]]\n"
     ]
    }
   ],
   "source": [
    "print(np.ones(5))\n",
    "print(np.ones((2,3)) )\n",
    "print(np.zeros(5))\n",
    "print(np.zeros((2,3)) )\n",
    "print(np.eye(5))                  #for digonal 1 matrix"
   ]
  },
  {
   "cell_type": "code",
   "execution_count": 61,
   "metadata": {},
   "outputs": [
    {
     "name": "stdout",
     "output_type": "stream",
     "text": [
      "[[ 0  1  2  3]\n",
      " [ 4  5  6  7]\n",
      " [ 8  9 10 11]]\n"
     ]
    },
    {
     "data": {
      "text/plain": [
       "array([[ 2,  3,  4,  5],\n",
       "       [ 6,  7,  8,  9],\n",
       "       [10, 11, 12, 13]])"
      ]
     },
     "execution_count": 61,
     "metadata": {},
     "output_type": "execute_result"
    }
   ],
   "source": [
    "np_mat = np.arange(12).reshape(3,4)\n",
    "print(np_mat)\n",
    "np_mat+2                         #vectorization"
   ]
  },
  {
   "cell_type": "code",
   "execution_count": 62,
   "metadata": {},
   "outputs": [
    {
     "name": "stdout",
     "output_type": "stream",
     "text": [
      "[[ 0  1  2  3]\n",
      " [ 4  5  6  7]\n",
      " [ 8  9 10 11]]\n"
     ]
    },
    {
     "data": {
      "text/plain": [
       "array([[ 1,  3,  2,  8],\n",
       "       [ 5,  7,  6, 12],\n",
       "       [ 9, 11, 10, 16]])"
      ]
     },
     "execution_count": 62,
     "metadata": {},
     "output_type": "execute_result"
    }
   ],
   "source": [
    "np_mat = np.arange(12).reshape(3,4)\n",
    "print(np_mat)\n",
    "np_mat+[1,2,0,5]                  #adding in column "
   ]
  },
  {
   "cell_type": "code",
   "execution_count": 63,
   "metadata": {},
   "outputs": [
    {
     "name": "stdout",
     "output_type": "stream",
     "text": [
      "[[ 0  1  2  3]\n",
      " [ 4  5  6  7]\n",
      " [ 8  9 10 11]]\n",
      "[[ 1  2  3  4]\n",
      " [ 5  6  7  8]\n",
      " [ 9 10 11 12]]\n",
      "---------------\n",
      "[[ 1  3  5  7]\n",
      " [ 9 11 13 15]\n",
      " [17 19 21 23]]\n"
     ]
    }
   ],
   "source": [
    "#adding two matrix\n",
    "np_mat1=np.arange(12).reshape(3,4)\n",
    "np_mat2=np.arange(1,13).reshape(3,4)\n",
    "print(np_mat1)\n",
    "print(np_mat2)\n",
    "print(\"---------------\")\n",
    "print(np_mat1 + np_mat2 )                             # shapes have to be same"
   ]
  },
  {
   "cell_type": "code",
   "execution_count": 64,
   "metadata": {},
   "outputs": [],
   "source": [
    "# for substarcting is same as addition\n",
    "# for multiplication (a * b) (c * d) then b==c and result is (a * d)"
   ]
  },
  {
   "cell_type": "code",
   "execution_count": 65,
   "metadata": {},
   "outputs": [
    {
     "name": "stdout",
     "output_type": "stream",
     "text": [
      "[[0 1 2]\n",
      " [3 4 5]\n",
      " [6 7 8]]\n",
      "[[1 2 3]\n",
      " [4 5 6]\n",
      " [7 8 9]]\n",
      "-------element wise multiplication--------\n",
      "[[ 0  2  6]\n",
      " [12 20 30]\n",
      " [42 56 72]]\n",
      "-------matrix mathwise multiplication--------\n",
      "[[ 18  21  24]\n",
      " [ 54  66  78]\n",
      " [ 90 111 132]]\n",
      "-------matrix mathwise multiplication--------\n",
      "[[ 18  21  24]\n",
      " [ 54  66  78]\n",
      " [ 90 111 132]]\n"
     ]
    }
   ],
   "source": [
    "np_mat1 = np.arange(9).reshape(3,3)\n",
    "np_mat2 = np.arange(1,10).reshape(3,3)\n",
    "print(np_mat1)\n",
    "print(np_mat2)\n",
    "print(\"-------element wise multiplication--------\")\n",
    "print(np_mat1 * np_mat2 )  \n",
    "print(\"-------matrix mathwise multiplication--------\")\n",
    "print(np_mat1 .dot(np_mat2)) \n",
    "print(\"-------matrix mathwise multiplication--------\")\n",
    "print(np_mat1 @ np_mat2) "
   ]
  },
  {
   "cell_type": "code",
   "execution_count": 66,
   "metadata": {},
   "outputs": [
    {
     "name": "stdout",
     "output_type": "stream",
     "text": [
      "[[ 0  1  2  3]\n",
      " [ 4  5  6  7]\n",
      " [ 8  9 10 11]]\n",
      "[[ 0  1  2  3  4]\n",
      " [ 5  6  7  8  9]\n",
      " [10 11 12 13 14]\n",
      " [15 16 17 18 19]]\n",
      "-------matrix mathwise multiplication--------\n",
      "[[ 70  76  82  88  94]\n",
      " [190 212 234 256 278]\n",
      " [310 348 386 424 462]]\n",
      "-------matrix mathwise multiplication--------\n",
      "[[ 70  76  82  88  94]\n",
      " [190 212 234 256 278]\n",
      " [310 348 386 424 462]]\n"
     ]
    }
   ],
   "source": [
    "np_mat1 = np.arange(12).reshape(3,4)\n",
    "np_mat2 = np.arange(20).reshape(4,5)\n",
    "print(np_mat1)\n",
    "print(np_mat2)\n",
    "#print(\"-------element wise multiplication--------\")            # for element wise size have to be same\n",
    "#print(np_mat1 * np_mat2 )  \n",
    "print(\"-------matrix mathwise multiplication--------\")\n",
    "print(np_mat1 .dot(np_mat2)) \n",
    "print(\"-------matrix mathwise multiplication--------\")\n",
    "print(np_mat1 @ np_mat2) "
   ]
  },
  {
   "cell_type": "code",
   "execution_count": 67,
   "metadata": {},
   "outputs": [
    {
     "name": "stdout",
     "output_type": "stream",
     "text": [
      "[[ 0  1  2  3  4]\n",
      " [ 5  6  7  8  9]\n",
      " [10 11 12 13 14]\n",
      " [15 16 17 18 19]]\n",
      "row index :1\n",
      "col inddex :1\n",
      "6\n",
      "6\n"
     ]
    }
   ],
   "source": [
    "# accessing the element in matrix\n",
    "import numpy as np\n",
    "np_a = np.arange(20).reshape(4,5)\n",
    "print(np_a)\n",
    "ri = int(input(\"row index :\"))\n",
    "ci = int(input(\"col inddex :\"))\n",
    "f = np_a[ri][ci]\n",
    "s = np_a[ri , ci]\n",
    "print(f)\n",
    "print(s)"
   ]
  },
  {
   "cell_type": "code",
   "execution_count": 68,
   "metadata": {},
   "outputs": [
    {
     "name": "stdout",
     "output_type": "stream",
     "text": [
      "[[ 0  1  2  3  4]\n",
      " [ 5  6  7  8  9]\n",
      " [10 11 12 13 14]]\n",
      "[[ 0  1]\n",
      " [ 5  6]\n",
      " [10 11]\n",
      " [15 16]]\n",
      "[[ 6  7  8]\n",
      " [11 12 13]]\n"
     ]
    }
   ],
   "source": [
    "print(np_a[ : 3 , : ])      #first 3 rows\n",
    "print(np_a[ :  , : 2 ])      #first 2 cols                          #this is not possible with double brackets \n",
    "print(np_a[1:3 , 1:4])"
   ]
  },
  {
   "cell_type": "code",
   "execution_count": 69,
   "metadata": {},
   "outputs": [
    {
     "name": "stdout",
     "output_type": "stream",
     "text": [
      "Help on built-in function random:\n",
      "\n",
      "random(...) method of random.Random instance\n",
      "    random() -> x in the interval [0, 1).\n",
      "\n"
     ]
    }
   ],
   "source": [
    "import random \n",
    "#dir(random)\n",
    "# randint, random , seed\n",
    "help(random.random)"
   ]
  },
  {
   "cell_type": "code",
   "execution_count": 70,
   "metadata": {},
   "outputs": [
    {
     "data": {
      "text/plain": [
       "0.37314612288291826"
      ]
     },
     "execution_count": 70,
     "metadata": {},
     "output_type": "execute_result"
    }
   ],
   "source": [
    "random.random()"
   ]
  },
  {
   "cell_type": "code",
   "execution_count": 71,
   "metadata": {},
   "outputs": [
    {
     "name": "stdout",
     "output_type": "stream",
     "text": [
      "0.8362607636040285\n",
      "83.62607636040285\n",
      "83\n"
     ]
    }
   ],
   "source": [
    "x = random.random()\n",
    "y = x*100\n",
    "print(x)\n",
    "print(y)\n",
    "print(int(y))"
   ]
  },
  {
   "cell_type": "code",
   "execution_count": 72,
   "metadata": {},
   "outputs": [
    {
     "name": "stdout",
     "output_type": "stream",
     "text": [
      "Help on method randint in module random:\n",
      "\n",
      "randint(a, b) method of random.Random instance\n",
      "    Return random integer in range [a, b], including both end points.\n",
      "\n"
     ]
    }
   ],
   "source": [
    "help(random.randint)"
   ]
  },
  {
   "cell_type": "code",
   "execution_count": 73,
   "metadata": {},
   "outputs": [
    {
     "name": "stdout",
     "output_type": "stream",
     "text": [
      "-26\n"
     ]
    }
   ],
   "source": [
    "x = random.randint(-50,1)\n",
    "print(x)"
   ]
  },
  {
   "cell_type": "code",
   "execution_count": 74,
   "metadata": {},
   "outputs": [
    {
     "name": "stdout",
     "output_type": "stream",
     "text": [
      "87\n",
      "-28\n",
      "-39\n",
      "50\n",
      "-17\n",
      "44\n",
      "-33\n",
      "12\n",
      "29\n",
      "21\n"
     ]
    }
   ],
   "source": [
    "for i in range(10):\n",
    "    print(random.randint(-50,100))"
   ]
  },
  {
   "cell_type": "code",
   "execution_count": 75,
   "metadata": {},
   "outputs": [
    {
     "name": "stdout",
     "output_type": "stream",
     "text": [
      "Help on method seed in module random:\n",
      "\n",
      "seed(a=None, version=2) method of random.Random instance\n",
      "    Initialize internal state from hashable object.\n",
      "    \n",
      "    None or no argument seeds from current time or from an operating\n",
      "    system specific randomness source if available.\n",
      "    \n",
      "    If *a* is an int, all bits are used.\n",
      "    \n",
      "    For version 2 (the default), all of the bits are used if *a* is a str,\n",
      "    bytes, or bytearray.  For version 1 (provided for reproducing random\n",
      "    sequences from older versions of Python), the algorithm for str and\n",
      "    bytes generates a narrower range of seeds.\n",
      "\n"
     ]
    }
   ],
   "source": [
    "help(random.seed)"
   ]
  },
  {
   "cell_type": "code",
   "execution_count": 2,
   "metadata": {},
   "outputs": [
    {
     "name": "stdout",
     "output_type": "stream",
     "text": [
      "9\n",
      "0\n",
      "6\n",
      "7\n",
      "9\n",
      "0\n",
      "3\n",
      "7\n",
      "7\n",
      "4\n"
     ]
    }
   ],
   "source": [
    "import random\n",
    "random.seed(10)\n",
    "for i in range(10):\n",
    "    print(random.randint(0,10))"
   ]
  },
  {
   "cell_type": "code",
   "execution_count": 77,
   "metadata": {},
   "outputs": [],
   "source": [
    "from random import randint\n",
    "\n",
    "def generateRandom(start, end , n):\n",
    "    a = []\n",
    "    for i in range(n):\n",
    "        a.append( randint(start,end) )\n",
    "    return np.array(a) "
   ]
  },
  {
   "cell_type": "code",
   "execution_count": 78,
   "metadata": {},
   "outputs": [
    {
     "name": "stdout",
     "output_type": "stream",
     "text": [
      "[ 6  2 17 16 11  3  8 12  2 14]\n",
      "[ 5 20 12 13 14 10  9 15  6 10]\n"
     ]
    }
   ],
   "source": [
    "np_a = generateRandom(1,20,10)\n",
    "np_b = generateRandom(1,20,10)\n",
    "print(np_a)\n",
    "print(np_b)"
   ]
  },
  {
   "cell_type": "code",
   "execution_count": 79,
   "metadata": {},
   "outputs": [
    {
     "name": "stdout",
     "output_type": "stream",
     "text": [
      "[[ 6  2 17 16 11]\n",
      " [ 3  8 12  2 14]]\n",
      "[[ 5 20 12 13 14]\n",
      " [10  9 15  6 10]]\n"
     ]
    }
   ],
   "source": [
    "np_a = np_a.reshape((2,5))\n",
    "np_b = np_b.reshape((2,5))\n",
    "print(np_a)\n",
    "print(np_b)"
   ]
  },
  {
   "cell_type": "code",
   "execution_count": 80,
   "metadata": {},
   "outputs": [
    {
     "name": "stdout",
     "output_type": "stream",
     "text": [
      "Sum of entire matrix :  91\n",
      "Column-wise sum\n",
      "[ 9 10 29 18 25]\n",
      "Row-wise sum\n",
      "[52 39]\n"
     ]
    }
   ],
   "source": [
    "print(\"Sum of entire matrix : \", np.sum(np_a))  #\n",
    "print(\"Column-wise sum\")\n",
    "print(np.sum(np_a, axis = 0))\n",
    "print(\"Row-wise sum\")\n",
    "print(np.sum(np_a, axis = 1))"
   ]
  },
  {
   "cell_type": "code",
   "execution_count": 81,
   "metadata": {},
   "outputs": [
    {
     "name": "stdout",
     "output_type": "stream",
     "text": [
      "Column-wise sum\n",
      "[ 9 10 29 18 25]\n",
      "Row-wise sum\n",
      "[52 39]\n"
     ]
    }
   ],
   "source": [
    "print(\"Column-wise sum\")\n",
    "print(np_a.sum(axis = 0))\n",
    "print(\"Row-wise sum\")\n",
    "print(np_a.sum(axis = 1))"
   ]
  },
  {
   "cell_type": "code",
   "execution_count": 82,
   "metadata": {},
   "outputs": [
    {
     "name": "stdout",
     "output_type": "stream",
     "text": [
      "Column-wise max\n",
      "[ 6  8 17 16 14]\n",
      "Row-wise max\n",
      "[17 14]\n"
     ]
    }
   ],
   "source": [
    "print(\"Column-wise max\")\n",
    "print(np.max(np_a, axis = 0))\n",
    "print(\"Row-wise max\")\n",
    "print(np.max(np_a, axis = 1))"
   ]
  },
  {
   "cell_type": "code",
   "execution_count": 83,
   "metadata": {},
   "outputs": [
    {
     "name": "stdout",
     "output_type": "stream",
     "text": [
      "Column-wise min\n",
      "[ 3  2 12  2 11]\n",
      "Row-wise min\n",
      "[2 2]\n"
     ]
    }
   ],
   "source": [
    "print(\"Column-wise min\")\n",
    "print(np.min(np_a, axis = 0))\n",
    "print(\"Row-wise min\")\n",
    "print(np.min(np_a, axis = 1))"
   ]
  },
  {
   "cell_type": "code",
   "execution_count": 84,
   "metadata": {},
   "outputs": [
    {
     "data": {
      "text/plain": [
       "[[1, 2], [3, 4], [5, 6], [7, 8]]"
      ]
     },
     "execution_count": 84,
     "metadata": {},
     "output_type": "execute_result"
    }
   ],
   "source": [
    "a=[[1,2],[3,4]]\n",
    "b=[[5,6],[7,8]]\n",
    "a + b"
   ]
  },
  {
   "cell_type": "code",
   "execution_count": 85,
   "metadata": {},
   "outputs": [
    {
     "name": "stdout",
     "output_type": "stream",
     "text": [
      "[[ 6  2 17 16 11]\n",
      " [ 3  8 12  2 14]]\n",
      "[[ 5 20 12 13 14]\n",
      " [10  9 15  6 10]]\n",
      "Stacking the matrics in vertical stack\n",
      "[[ 6  2 17 16 11]\n",
      " [ 3  8 12  2 14]\n",
      " [ 5 20 12 13 14]\n",
      " [10  9 15  6 10]]\n",
      "Stacking the matrics in horizontal stack\n",
      "[[ 6  2 17 16 11  5 20 12 13 14]\n",
      " [ 3  8 12  2 14 10  9 15  6 10]]\n"
     ]
    }
   ],
   "source": [
    "print(np_a)\n",
    "print(np_b)\n",
    "print(\"Stacking the matrics in vertical stack\")\n",
    "print(np.vstack((np_a,np_b)))\n",
    "print(\"Stacking the matrics in horizontal stack\")\n",
    "print(np.hstack((np_a,np_b)))"
   ]
  },
  {
   "cell_type": "code",
   "execution_count": 86,
   "metadata": {},
   "outputs": [
    {
     "name": "stdout",
     "output_type": "stream",
     "text": [
      "[[ 6  2 17 16 11]\n",
      " [ 3  8 12  2 14]]\n",
      "[[ 5 20 12 13 14]\n",
      " [10  9 15  6 10]]\n",
      "[[12  5 15  8 15]\n",
      " [20 13  2 19  1]]\n",
      "vertical stack \n",
      "\n",
      "[[ 6  2 17 16 11]\n",
      " [ 3  8 12  2 14]\n",
      " [ 5 20 12 13 14]\n",
      " [10  9 15  6 10]\n",
      " [12  5 15  8 15]\n",
      " [20 13  2 19  1]]\n",
      "horizontal stack \n",
      "\n",
      "[[ 6  2 17 16 11  5 20 12 13 14 12  5 15  8 15]\n",
      " [ 3  8 12  2 14 10  9 15  6 10 20 13  2 19  1]]\n"
     ]
    }
   ],
   "source": [
    "np_c = generateRandom(1,20,10)\n",
    "np_c = np_c.reshape((2,5))\n",
    "print(np_a)\n",
    "print(np_b)\n",
    "print(np_c)\n",
    "print(\"vertical stack \\n\")\n",
    "print(np.vstack((np_a,np_b,np_c)))\n",
    "print(\"horizontal stack \\n\")\n",
    "print(np.hstack((np_a,np_b,np_c)))"
   ]
  },
  {
   "cell_type": "code",
   "execution_count": 87,
   "metadata": {},
   "outputs": [
    {
     "name": "stdout",
     "output_type": "stream",
     "text": [
      "[[ 8  5  7]\n",
      " [10 18 12]\n",
      " [ 8 11 18]\n",
      " [15 14 16]]\n",
      "[[ 3 19 11]\n",
      " [17  6  8]\n",
      " [14  8  2]]\n",
      "[[ 2 16 10]\n",
      " [20  3 18]\n",
      " [ 3  5 13]\n",
      " [19 12 20]\n",
      " [ 5  4  4]]\n",
      "vertical stack \n",
      "\n",
      "[[ 8  5  7]\n",
      " [10 18 12]\n",
      " [ 8 11 18]\n",
      " [15 14 16]\n",
      " [ 3 19 11]\n",
      " [17  6  8]\n",
      " [14  8  2]\n",
      " [ 2 16 10]\n",
      " [20  3 18]\n",
      " [ 3  5 13]\n",
      " [19 12 20]\n",
      " [ 5  4  4]]\n"
     ]
    }
   ],
   "source": [
    "np_a = generateRandom(1,20,12)\n",
    "np_a = np_a.reshape((4,3))\n",
    "np_b = generateRandom(1,20,9)\n",
    "np_b = np_b.reshape((3,3))\n",
    "np_c = generateRandom(1,20,15)\n",
    "np_c = np_c.reshape((5,3))\n",
    "print(np_a)\n",
    "print(np_b)\n",
    "print(np_c)\n",
    "print(\"vertical stack \\n\")\n",
    "print(np.vstack((np_a,np_b,np_c)))"
   ]
  },
  {
   "cell_type": "code",
   "execution_count": 89,
   "metadata": {},
   "outputs": [
    {
     "name": "stdout",
     "output_type": "stream",
     "text": [
      "[[ 6 13 16  8]\n",
      " [17  9 17 16]\n",
      " [20 16  3  6]]\n",
      "[[16 15 13]\n",
      " [ 5 14 18]\n",
      " [19 12 18]]\n",
      "[[13 16  6 18 15]\n",
      " [ 4 14  2  1 15]\n",
      " [18  3  2 12  3]]\n",
      "\n",
      " horizontal  stack \n",
      "\n",
      "[[ 6 13 16  8 16 15 13 13 16  6 18 15]\n",
      " [17  9 17 16  5 14 18  4 14  2  1 15]\n",
      " [20 16  3  6 19 12 18 18  3  2 12  3]]\n"
     ]
    }
   ],
   "source": [
    "np_a = generateRandom(1,20,12)\n",
    "np_a = np_a.reshape((3,4))\n",
    "np_b = generateRandom(1,20,9)\n",
    "np_b = np_b.reshape((3,3))\n",
    "np_c = generateRandom(1,20,15)\n",
    "np_c = np_c.reshape((3,5))\n",
    "print(np_a)\n",
    "print(np_b)\n",
    "print(np_c)\n",
    "print(\"\\n horizontal  stack \\n\")\n",
    "print(np.hstack((np_a,np_b,np_c)))"
   ]
  },
  {
   "cell_type": "code",
   "execution_count": null,
   "metadata": {},
   "outputs": [],
   "source": []
  }
 ],
 "metadata": {
  "kernelspec": {
   "display_name": "Python 3",
   "language": "python",
   "name": "python3"
  },
  "language_info": {
   "codemirror_mode": {
    "name": "ipython",
    "version": 3
   },
   "file_extension": ".py",
   "mimetype": "text/x-python",
   "name": "python",
   "nbconvert_exporter": "python",
   "pygments_lexer": "ipython3",
   "version": "3.7.6"
  }
 },
 "nbformat": 4,
 "nbformat_minor": 2
}
