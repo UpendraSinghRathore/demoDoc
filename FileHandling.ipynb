{
 "cells": [
  {
   "cell_type": "markdown",
   "metadata": {},
   "source": [
    "## File handling in python\n",
    "    -reading\n",
    "    -writing\n",
    "    -appending"
   ]
  },
  {
   "cell_type": "markdown",
   "metadata": {},
   "source": [
    "### basic method\n",
    " - without with "
   ]
  },
  {
   "cell_type": "code",
   "execution_count": 1,
   "metadata": {},
   "outputs": [
    {
     "data": {
      "text/plain": [
       "True"
      ]
     },
     "execution_count": 1,
     "metadata": {},
     "output_type": "execute_result"
    }
   ],
   "source": [
    "fp = open(\"example.txt\",'w')\n",
    "content=[\"line 1\",\"line 2\",\"line 3\",\"line 4\",\"line 5\"]\n",
    "for line in content:\n",
    "    fp.write(line+\"\\n\")\n",
    "fp.close()\n",
    "fp.closed"
   ]
  },
  {
   "cell_type": "code",
   "execution_count": 2,
   "metadata": {},
   "outputs": [
    {
     "name": "stdout",
     "output_type": "stream",
     "text": [
      "line 1\n",
      "line 2\n",
      "line 3\n",
      "line 4\n",
      "line 5\n",
      "\n"
     ]
    }
   ],
   "source": [
    "fp = open(\"example.txt\",'r')\n",
    "content=fp.read()\n",
    "print(content)\n",
    "fp.close()"
   ]
  },
  {
   "cell_type": "code",
   "execution_count": 3,
   "metadata": {},
   "outputs": [
    {
     "name": "stdout",
     "output_type": "stream",
     "text": [
      "['line 1\\n', 'line 2\\n', 'line 3\\n', 'line 4\\n', 'line 5\\n']\n"
     ]
    }
   ],
   "source": [
    "fp = open(\"example.txt\",'r')\n",
    "content=fp.readlines()\n",
    "print(content)\n",
    "fp.close()"
   ]
  },
  {
   "cell_type": "code",
   "execution_count": 4,
   "metadata": {},
   "outputs": [
    {
     "name": "stdout",
     "output_type": "stream",
     "text": [
      "['line 1\\n', 'line 2\\n', 'line 3\\n', 'line 4\\n', 'line 5\\n']\n",
      "['line 1', 'line 2', 'line 3', 'line 4', 'line 5']\n"
     ]
    }
   ],
   "source": [
    "fp = open(\"example.txt\",'r')\n",
    "content=fp.readlines()\n",
    "print(content)\n",
    "content=[i.rstrip(\"\\n\") for i in content]\n",
    "print(content)\n",
    "fp.close()"
   ]
  },
  {
   "cell_type": "code",
   "execution_count": 5,
   "metadata": {},
   "outputs": [
    {
     "name": "stdout",
     "output_type": "stream",
     "text": [
      "line 1\n",
      "line 2\n",
      "line 3\n",
      "line 4\n",
      "line 5\n"
     ]
    }
   ],
   "source": [
    "fp = open(\"example.txt\",'r')\n",
    "for line in fp:\n",
    "    print(line,end='')\n",
    "fp.close()"
   ]
  },
  {
   "cell_type": "markdown",
   "metadata": {},
   "source": [
    "### With method\n",
    "    - with method takes care of closing the file"
   ]
  },
  {
   "cell_type": "code",
   "execution_count": 6,
   "metadata": {},
   "outputs": [
    {
     "name": "stdout",
     "output_type": "stream",
     "text": [
      "line 1\n",
      "line 2\n",
      "line 3\n",
      "line 4\n",
      "line 5\n"
     ]
    }
   ],
   "source": [
    "with open(\"example.txt\",'r') as fp:\n",
    "    for line in fp:\n",
    "        print(line,end='')"
   ]
  },
  {
   "cell_type": "code",
   "execution_count": 7,
   "metadata": {},
   "outputs": [
    {
     "name": "stdout",
     "output_type": "stream",
     "text": [
      "line 1\n",
      "line 2\n",
      "line 3\n",
      "line 4\n",
      "line 5\n",
      "line 5 \n"
     ]
    }
   ],
   "source": [
    "with open(\"example.txt\",'a+') as fp:\n",
    "    fp.write(\"line 5 \\n\")\n",
    "    fp.seek(0)\n",
    "    for line in fp:\n",
    "        print(line,end='')"
   ]
  },
  {
   "cell_type": "markdown",
   "metadata": {},
   "source": [
    "#### if we have a large file it will take more memory in RAM when we read it so we can use \"read( size of character you want to read )\""
   ]
  },
  {
   "cell_type": "code",
   "execution_count": 9,
   "metadata": {},
   "outputs": [
    {
     "name": "stdout",
     "output_type": "stream",
     "text": [
      "line 1\n",
      "line 2\n",
      "line 3\n",
      "line 4\n",
      "line 5\n",
      "line 5 \n"
     ]
    }
   ],
   "source": [
    "with open(\"example.txt\",'r') as fp:\n",
    "    sizeofread=3\n",
    "    content=fp.read(sizeofread)\n",
    "    while len(content) > 0:\n",
    "        print(content,end='')\n",
    "        content=fp.read(sizeofread)"
   ]
  },
  {
   "cell_type": "code",
   "execution_count": 10,
   "metadata": {},
   "outputs": [
    {
     "name": "stdout",
     "output_type": "stream",
     "text": [
      "C:\\Users\\upendra\n"
     ]
    }
   ],
   "source": [
    "import os\n",
    "print(os.getcwd())"
   ]
  },
  {
   "cell_type": "code",
   "execution_count": 11,
   "metadata": {},
   "outputs": [
    {
     "name": "stdout",
     "output_type": "stream",
     "text": [
      "line 1\n",
      "line 2\n",
      "line 3\n",
      "line 4\n",
      "line 5\n",
      "line 5 \n"
     ]
    }
   ],
   "source": [
    "with open(\"example.txt\",'r') as fp:\n",
    "    sizeofread=10\n",
    "    content=fp.read(sizeofread)\n",
    "    while len(content) > 0:\n",
    "        print(content,end='')\n",
    "        content=fp.read(sizeofread)"
   ]
  },
  {
   "cell_type": "code",
   "execution_count": 12,
   "metadata": {},
   "outputs": [],
   "source": [
    "with open(\"example.txt\",'r') as rf:\n",
    "    with open(\"example_copy.txt\",'w') as wf:\n",
    "        for line in rf:\n",
    "            wf.write(line)\n",
    "    "
   ]
  },
  {
   "cell_type": "markdown",
   "metadata": {},
   "source": [
    "\n",
    "#### - write mode always overwrite on the privious file\n"
   ]
  },
  {
   "cell_type": "markdown",
   "metadata": {},
   "source": [
    "### for other then txt file we use binary to read and write or codec and UTF-8 will give the error"
   ]
  },
  {
   "cell_type": "code",
   "execution_count": 15,
   "metadata": {},
   "outputs": [],
   "source": [
    "with open(\"Desktop/File handling.txt\",'rb') as rf:\n",
    "    with open(\"Desktop/File handling_copy.txt\",'wb') as wf:\n",
    "        for line in rf:\n",
    "            wf.write(line)"
   ]
  },
  {
   "cell_type": "code",
   "execution_count": 17,
   "metadata": {},
   "outputs": [],
   "source": [
    "with open(\"Desktop/TensorFlow for Computer Vision - Full Tutorial for Beginners.mp4\",'rb') as rf:\n",
    "    with open(\"Desktop/TensorFlow for Computer Vision - Full Tutorial for Beginners_copy.mp4\",'wb') as wf:\n",
    "        for line in rf:\n",
    "            wf.write(line)"
   ]
  },
  {
   "cell_type": "markdown",
   "metadata": {},
   "source": [
    "### file size is big so we can use the chunck or small size at a time to write in another file"
   ]
  },
  {
   "cell_type": "code",
   "execution_count": 18,
   "metadata": {},
   "outputs": [
    {
     "name": "stdout",
     "output_type": "stream",
     "text": [
      "2081\n"
     ]
    }
   ],
   "source": [
    "import sys\n",
    "with open(\"Desktop/TensorFlow for Computer Vision - Full Tutorial for Beginners.mp4\",'rb') as rf:\n",
    "    with open(\"Desktop/TensorFlow for Computer Vision - Full Tutorial for Beginners_copy.mp4\",'wb') as wf:\n",
    "        sizetoread = 2048\n",
    "        content = rf.read(sizetoread)\n",
    "        print(sys.getsizeof(content))\n",
    "        while len(content) > 0:\n",
    "            wf.write(content)\n",
    "            content = rf.read(sizetoread)"
   ]
  },
  {
   "cell_type": "markdown",
   "metadata": {},
   "source": [
    "### we can use tell() to get the location of the pointer"
   ]
  },
  {
   "cell_type": "code",
   "execution_count": 19,
   "metadata": {},
   "outputs": [
    {
     "name": "stdout",
     "output_type": "stream",
     "text": [
      "0\n",
      "lin\n",
      "3\n"
     ]
    }
   ],
   "source": [
    "with open(\"example.txt\",'r') as fp:\n",
    "    print(fp.tell())\n",
    "    sizetoread = 3\n",
    "    content = fp.read(sizetoread)\n",
    "    print(content)\n",
    "    print(fp.tell())\n"
   ]
  },
  {
   "cell_type": "code",
   "execution_count": 20,
   "metadata": {},
   "outputs": [
    {
     "name": "stdout",
     "output_type": "stream",
     "text": [
      "line 1\n",
      "line 2\n",
      "line 3\n",
      "line 4\n",
      "line 5\n",
      "line 5 \n"
     ]
    }
   ],
   "source": [
    "with open(\"example.txt\",'r') as fp:\n",
    "    sizeofread=10\n",
    "    content=fp.read(sizeofread)\n",
    "    while len(content) > 0:\n",
    "        print(content,end='')\n",
    "        content=fp.read(sizeofread)\n"
   ]
  },
  {
   "cell_type": "code",
   "execution_count": 22,
   "metadata": {},
   "outputs": [
    {
     "name": "stdout",
     "output_type": "stream",
     "text": [
      "[11 12 13 14 15 16 17]\n",
      "int32\n"
     ]
    }
   ],
   "source": [
    "import numpy as np\n",
    "np_data = np.loadtxt(r\"example2.txt\" , dtype = 'int')\n",
    "print(np_data)\n",
    "print(np_data.dtype)"
   ]
  },
  {
   "cell_type": "code",
   "execution_count": 26,
   "metadata": {},
   "outputs": [
    {
     "name": "stdout",
     "output_type": "stream",
     "text": [
      "[11 12 13 14 15 16 17]\n",
      "int32\n",
      "[22 24 26 28 30 32 34]\n",
      "int32\n"
     ]
    }
   ],
   "source": [
    "import numpy as np\n",
    "np_data = np.loadtxt(r\"example2.txt\" , dtype = 'int')\n",
    "print(np_data)\n",
    "print(np_data.dtype)\n",
    "np_data = np_data*2\n",
    "np.savetxt(r\"updated_example2.txt\", np_data)\n",
    "np_data = np.loadtxt(r\"updated_example2.txt\" , dtype = 'int')\n",
    "print(np_data)\n",
    "print(np_data.dtype)"
   ]
  },
  {
   "cell_type": "code",
   "execution_count": 29,
   "metadata": {},
   "outputs": [],
   "source": [
    "# Deleting a file\n",
    "import os\n",
    "os.remove(\"example.txt\")"
   ]
  }
 ],
 "metadata": {
  "kernelspec": {
   "display_name": "Python 3",
   "language": "python",
   "name": "python3"
  },
  "language_info": {
   "codemirror_mode": {
    "name": "ipython",
    "version": 3
   },
   "file_extension": ".py",
   "mimetype": "text/x-python",
   "name": "python",
   "nbconvert_exporter": "python",
   "pygments_lexer": "ipython3",
   "version": "3.7.6"
  }
 },
 "nbformat": 4,
 "nbformat_minor": 4
}
